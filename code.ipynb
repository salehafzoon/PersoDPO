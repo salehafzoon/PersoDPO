{
 "cells": [
  {
   "cell_type": "markdown",
   "id": "ce979186",
   "metadata": {},
   "source": [
    "# Installation"
   ]
  },
  {
   "cell_type": "code",
   "execution_count": 1,
   "id": "b5193893",
   "metadata": {},
   "outputs": [],
   "source": [
    "# pip install datasets trl transformers accelerate matplotlib ipywidgets bitsandbytes"
   ]
  },
  {
   "cell_type": "markdown",
   "id": "1923d2c8",
   "metadata": {},
   "source": [
    "# Parameter Stup"
   ]
  },
  {
   "cell_type": "code",
   "execution_count": 1,
   "id": "ff3aacfa",
   "metadata": {},
   "outputs": [],
   "source": [
    "DATASET = \"FoCus\"                                       # \"FoCus\" \n",
    "\n",
    "_COT = \"\"                                               #  \"\",    \"-COT\"\n",
    "\n",
    "SCORING_METHOD = \"perso\"                         # \"simple\", \"perso\"\n",
    "\n",
    "LLMS = [\n",
    "    (\"Qwen2-5B-Instruct\", \"Qwen/Qwen2-0.5B-Instruct\"),\n",
    "    (\"Mistral-7B-Instruct\", \"mistralai/Mistral-7B-Instruct-v0.2\"),\n",
    "]\n",
    "\n",
    "LLM = LLMS[0]\n",
    "\n",
    "DPO_PATH = f\"{LLM[0]}-{DATASET}-{SCORING_METHOD}-DPO\""
   ]
  },
  {
   "cell_type": "code",
   "execution_count": 2,
   "id": "df7e6da5",
   "metadata": {},
   "outputs": [
    {
     "data": {
      "text/plain": [
       "'Qwen2-5B-Instruct-FoCus-perso-DPO'"
      ]
     },
     "execution_count": 2,
     "metadata": {},
     "output_type": "execute_result"
    }
   ],
   "source": [
    "DPO_PATH"
   ]
  },
  {
   "cell_type": "markdown",
   "id": "176bfe4f",
   "metadata": {},
   "source": [
    "# Dataset Preparation"
   ]
  },
  {
   "cell_type": "code",
   "execution_count": 4,
   "id": "adc18058",
   "metadata": {},
   "outputs": [
    {
     "name": "stdout",
     "output_type": "stream",
     "text": [
      "Loading FoCus dataset with perso scoring method and  COT\n"
     ]
    },
    {
     "data": {
      "text/html": [
       "<div>\n",
       "<style scoped>\n",
       "    .dataframe tbody tr th:only-of-type {\n",
       "        vertical-align: middle;\n",
       "    }\n",
       "\n",
       "    .dataframe tbody tr th {\n",
       "        vertical-align: top;\n",
       "    }\n",
       "\n",
       "    .dataframe thead th {\n",
       "        text-align: right;\n",
       "    }\n",
       "</style>\n",
       "<table border=\"1\" class=\"dataframe\">\n",
       "  <thead>\n",
       "    <tr style=\"text-align: right;\">\n",
       "      <th></th>\n",
       "      <th>prompt</th>\n",
       "      <th>chosen</th>\n",
       "      <th>rejected</th>\n",
       "      <th>score_chosen</th>\n",
       "      <th>score_rejected</th>\n",
       "    </tr>\n",
       "  </thead>\n",
       "  <tbody>\n",
       "    <tr>\n",
       "      <th>0</th>\n",
       "      <td>I will provide you with a conversation context...</td>\n",
       "      <td>{\"response\": \"The South Foreland Lighthouse is...</td>\n",
       "      <td>{\"response\": \"I would love to visit the South ...</td>\n",
       "      <td>0.695</td>\n",
       "      <td>0.575</td>\n",
       "    </tr>\n",
       "    <tr>\n",
       "      <th>1</th>\n",
       "      <td>I will provide you with a conversation context...</td>\n",
       "      <td>{\"response\": \"The South Foreland Lighthouse is...</td>\n",
       "      <td>{\"response\": \"The South Foreland Lighthouse, b...</td>\n",
       "      <td>0.695</td>\n",
       "      <td>0.294</td>\n",
       "    </tr>\n",
       "    <tr>\n",
       "      <th>2</th>\n",
       "      <td>I will provide you with a conversation context...</td>\n",
       "      <td>{\"response\": \"As a fellow lighthouse enthusias...</td>\n",
       "      <td>{\"response\": \"I would love to visit the South ...</td>\n",
       "      <td>0.756</td>\n",
       "      <td>0.575</td>\n",
       "    </tr>\n",
       "  </tbody>\n",
       "</table>\n",
       "</div>"
      ],
      "text/plain": [
       "                                              prompt  \\\n",
       "0  I will provide you with a conversation context...   \n",
       "1  I will provide you with a conversation context...   \n",
       "2  I will provide you with a conversation context...   \n",
       "\n",
       "                                              chosen  \\\n",
       "0  {\"response\": \"The South Foreland Lighthouse is...   \n",
       "1  {\"response\": \"The South Foreland Lighthouse is...   \n",
       "2  {\"response\": \"As a fellow lighthouse enthusias...   \n",
       "\n",
       "                                            rejected  score_chosen  \\\n",
       "0  {\"response\": \"I would love to visit the South ...         0.695   \n",
       "1  {\"response\": \"The South Foreland Lighthouse, b...         0.695   \n",
       "2  {\"response\": \"I would love to visit the South ...         0.756   \n",
       "\n",
       "   score_rejected  \n",
       "0           0.575  \n",
       "1           0.294  \n",
       "2           0.575  "
      ]
     },
     "execution_count": 4,
     "metadata": {},
     "output_type": "execute_result"
    }
   ],
   "source": [
    "from datasets import Dataset\n",
    "import pandas as pd\n",
    "\n",
    "print( f\"Loading {DATASET} dataset with {SCORING_METHOD} scoring method and {_COT} COT\")\n",
    "\n",
    "  \n",
    "df = pd.read_csv(f\"dpo_datasets/FoCus_{SCORING_METHOD}_dpo{_COT}.csv\")\n",
    "\n",
    "\n",
    "train_dataset = Dataset.from_pandas(df)\n",
    "\n",
    "df.head(3)"
   ]
  },
  {
   "cell_type": "code",
   "execution_count": 5,
   "id": "7d0246fe",
   "metadata": {},
   "outputs": [
    {
     "name": "stdout",
     "output_type": "stream",
     "text": [
      "{'prompt': 'I will provide you with a conversation context and the personas of the participants, that can be annotated with speaker information.\\nAs a participant in this conversation, your task is to generate a personalized response, considering the conversation context and personas.\\n\\nParticipant Personas:\\nI have never been to Buckinghamshire.I am from England.I have finished school.I live in a House.I do not have a garden.\\n\\nConversation Context:\\nUser1: Cool! And what is it?\\nUser2: It is a grade I listed country house, a kind of place you live in.\\nUser1: Awesome! And where is it?\\nUser2: It is in Stowe, Buckinghamshire, England, the country you are from.\\nUser1: Nice! And is it still used?\\nUser2: It is now the home of Stowe School, an independent school.\\nUser1: Awesome! Is it a well preserved place?\\nUser2: Yes, the owners of the house, the Stowe House Preservation Trust, as of March 2013, had spent more than £25m on the restoration of the house.\\nUser1: Incredible! Is it open to the public?\\n\\nTask Instruction:\\n* Provide an unannotated response.\\n* If only one persona is available, personalize the response accordingly.\\n* If the conversation context is a single query, respond appropriately to the query.\\n\\nOutput Format: only give a JSON of the following format:\\n{\\n  \"response\": \"provide the personalized natural language response here (in 110 words or less).\"\\n}\\n', 'chosen': '{\"response\": \"Yes, Stowe House is open to the public. They offer guided tours that allow you to explore the beautifully restored rooms and learn about its history. It might be a fascinating visit, especially since you\\'re from England but haven\\'t been to Buckinghamshire yet!\"}', 'rejected': '{\"response\": \"Yes, it is open to the public! You can visit and explore the beautiful grounds and the house itself. It\\'s a great way to appreciate the history and architecture.\"}', 'score_chosen': 0.813, 'score_rejected': 0.566}\n"
     ]
    }
   ],
   "source": [
    "print(train_dataset[600])  "
   ]
  },
  {
   "cell_type": "code",
   "execution_count": 6,
   "id": "7fb7371e",
   "metadata": {},
   "outputs": [
    {
     "name": "stdout",
     "output_type": "stream",
     "text": [
      "['prompt', 'chosen', 'rejected', 'score_chosen', 'score_rejected']\n",
      "9184\n"
     ]
    },
    {
     "data": {
      "text/plain": [
       "(9184, 5)"
      ]
     },
     "execution_count": 6,
     "metadata": {},
     "output_type": "execute_result"
    }
   ],
   "source": [
    "print(train_dataset.column_names)\n",
    "print(len(train_dataset))\n",
    "train_dataset.shape"
   ]
  },
  {
   "cell_type": "markdown",
   "id": "794b278a",
   "metadata": {},
   "source": [
    "# DPO Trainer"
   ]
  },
  {
   "cell_type": "code",
   "execution_count": 3,
   "id": "68a79e97",
   "metadata": {},
   "outputs": [],
   "source": [
    "from transformers import AutoModelForCausalLM, AutoTokenizer\n",
    "from trl import DPOConfig, DPOTrainer\n",
    "import torch"
   ]
  },
  {
   "cell_type": "markdown",
   "id": "521bb9a2",
   "metadata": {},
   "source": [
    "## Simple DPO"
   ]
  },
  {
   "cell_type": "code",
   "execution_count": 7,
   "id": "99a6b609",
   "metadata": {},
   "outputs": [
    {
     "name": "stderr",
     "output_type": "stream",
     "text": [
      "Sliding Window Attention is enabled but not implemented for `sdpa`; unexpected results may be encountered.\n"
     ]
    },
    {
     "data": {
      "application/vnd.jupyter.widget-view+json": {
       "model_id": "15dc9fc8411c4e898b3eb941303913ce",
       "version_major": 2,
       "version_minor": 0
      },
      "text/plain": [
       "Extracting prompt in train dataset:   0%|          | 0/9024 [00:00<?, ? examples/s]"
      ]
     },
     "metadata": {},
     "output_type": "display_data"
    },
    {
     "data": {
      "application/vnd.jupyter.widget-view+json": {
       "model_id": "c6b942df8fb04045af8686877e5bf631",
       "version_major": 2,
       "version_minor": 0
      },
      "text/plain": [
       "Applying chat template to train dataset:   0%|          | 0/9024 [00:00<?, ? examples/s]"
      ]
     },
     "metadata": {},
     "output_type": "display_data"
    },
    {
     "data": {
      "application/vnd.jupyter.widget-view+json": {
       "model_id": "d9599665c3284ef08b0bf170eec97913",
       "version_major": 2,
       "version_minor": 0
      },
      "text/plain": [
       "Tokenizing train dataset:   0%|          | 0/9024 [00:00<?, ? examples/s]"
      ]
     },
     "metadata": {},
     "output_type": "display_data"
    }
   ],
   "source": [
    "model = AutoModelForCausalLM.from_pretrained(\"Qwen/Qwen2-0.5B-Instruct\", torch_dtype=torch.float32)\n",
    "tokenizer = AutoTokenizer.from_pretrained(\"Qwen/Qwen2-0.5B-Instruct\")\n",
    "\n",
    "training_args = DPOConfig(\n",
    "    per_device_train_batch_size=4,  # or 2\n",
    "    gradient_accumulation_steps=4,  # to simulate larger batch size\n",
    "    output_dir= DPO_PATH,\n",
    "    logging_steps=200,\n",
    ")\n",
    "\n",
    "trainer = DPOTrainer(model = model, args = training_args, processing_class = tokenizer, train_dataset= train_dataset)"
   ]
  },
  {
   "cell_type": "code",
   "execution_count": 8,
   "id": "64c915b8",
   "metadata": {},
   "outputs": [
    {
     "data": {
      "text/html": [
       "\n",
       "    <div>\n",
       "      \n",
       "      <progress value='1692' max='1692' style='width:300px; height:20px; vertical-align: middle;'></progress>\n",
       "      [1692/1692 2:04:35, Epoch 3/3]\n",
       "    </div>\n",
       "    <table border=\"1\" class=\"dataframe\">\n",
       "  <thead>\n",
       " <tr style=\"text-align: left;\">\n",
       "      <th>Step</th>\n",
       "      <th>Training Loss</th>\n",
       "    </tr>\n",
       "  </thead>\n",
       "  <tbody>\n",
       "    <tr>\n",
       "      <td>200</td>\n",
       "      <td>0.063700</td>\n",
       "    </tr>\n",
       "    <tr>\n",
       "      <td>400</td>\n",
       "      <td>0.015600</td>\n",
       "    </tr>\n",
       "    <tr>\n",
       "      <td>600</td>\n",
       "      <td>0.007200</td>\n",
       "    </tr>\n",
       "    <tr>\n",
       "      <td>800</td>\n",
       "      <td>0.002600</td>\n",
       "    </tr>\n",
       "    <tr>\n",
       "      <td>1000</td>\n",
       "      <td>0.000400</td>\n",
       "    </tr>\n",
       "    <tr>\n",
       "      <td>1200</td>\n",
       "      <td>0.002700</td>\n",
       "    </tr>\n",
       "    <tr>\n",
       "      <td>1400</td>\n",
       "      <td>0.000100</td>\n",
       "    </tr>\n",
       "    <tr>\n",
       "      <td>1600</td>\n",
       "      <td>0.000000</td>\n",
       "    </tr>\n",
       "  </tbody>\n",
       "</table><p>"
      ],
      "text/plain": [
       "<IPython.core.display.HTML object>"
      ]
     },
     "metadata": {},
     "output_type": "display_data"
    },
    {
     "data": {
      "text/plain": [
       "TrainOutput(global_step=1692, training_loss=0.010912232092225563, metrics={'train_runtime': 7479.4161, 'train_samples_per_second': 3.62, 'train_steps_per_second': 0.226, 'total_flos': 0.0, 'train_loss': 0.010912232092225563, 'epoch': 3.0})"
      ]
     },
     "execution_count": 8,
     "metadata": {},
     "output_type": "execute_result"
    }
   ],
   "source": [
    "trainer.train()"
   ]
  },
  {
   "cell_type": "markdown",
   "id": "cdf21d0c",
   "metadata": {},
   "source": [
    "## Perso DPO"
   ]
  },
  {
   "cell_type": "code",
   "execution_count": 7,
   "id": "0a8d4f89",
   "metadata": {},
   "outputs": [],
   "source": [
    "from trl import DPOTrainer\n",
    "import torch\n",
    "import torch.nn.functional as F\n",
    "\n",
    "class ScoreWeightedDPOTrainer(DPOTrainer):\n",
    "    def _compute_loss(self, model, inputs, return_outputs=False):\n",
    "        # Extract input fields\n",
    "        chosen_input_ids = inputs[\"chosen_input_ids\"]\n",
    "        rejected_input_ids = inputs[\"rejected_input_ids\"]\n",
    "        attention_mask = inputs.get(\"attention_mask\", None)\n",
    "        scores_chosen = inputs[\"score_chosen\"]\n",
    "        scores_rejected = inputs[\"score_rejected\"]\n",
    "\n",
    "        # Use built-in DPO loss logic\n",
    "        loss_dict = self.dpo_loss(\n",
    "            model=model,\n",
    "            chosen_input_ids=chosen_input_ids,\n",
    "            rejected_input_ids=rejected_input_ids,\n",
    "            attention_mask=attention_mask,\n",
    "        )\n",
    "\n",
    "        base_loss = loss_dict[\"loss\"]  # shape: [batch_size]\n",
    "\n",
    "        # Compute margin and apply score-based weighting\n",
    "        margin = scores_chosen - scores_rejected  # shape: [batch_size]\n",
    "        weight = torch.sigmoid(margin)  # soft normalization to (0, 1)\n",
    "        weighted_loss = (weight * base_loss).mean()\n",
    "\n",
    "        return (weighted_loss, None) if return_outputs else weighted_loss"
   ]
  },
  {
   "cell_type": "code",
   "execution_count": 8,
   "id": "39822a85",
   "metadata": {},
   "outputs": [
    {
     "name": "stderr",
     "output_type": "stream",
     "text": [
      "Sliding Window Attention is enabled but not implemented for `sdpa`; unexpected results may be encountered.\n"
     ]
    }
   ],
   "source": [
    "import torch\n",
    "from transformers import AutoModelForCausalLM, AutoTokenizer\n",
    "\n",
    "model = AutoModelForCausalLM.from_pretrained(\"Qwen/Qwen2-0.5B-Instruct\", torch_dtype=torch.float32)\n",
    "tokenizer = AutoTokenizer.from_pretrained(\"Qwen/Qwen2-0.5B-Instruct\")\n",
    "\n",
    "# model = AutoModelForCausalLM.from_pretrained(LLM[1],  load_in_8bit=True, device_map='cuda', torch_dtype=torch.float32)\n",
    "# tokenizer = AutoTokenizer.from_pretrained(LLM[1])\n"
   ]
  },
  {
   "cell_type": "code",
   "execution_count": 9,
   "id": "59d5eb62",
   "metadata": {},
   "outputs": [
    {
     "data": {
      "application/vnd.jupyter.widget-view+json": {
       "model_id": "7e928ae969d042d1938c08adb870c767",
       "version_major": 2,
       "version_minor": 0
      },
      "text/plain": [
       "Extracting prompt in train dataset:   0%|          | 0/9184 [00:00<?, ? examples/s]"
      ]
     },
     "metadata": {},
     "output_type": "display_data"
    },
    {
     "data": {
      "application/vnd.jupyter.widget-view+json": {
       "model_id": "6a1ec5ee295746c795294e0c0c4319b2",
       "version_major": 2,
       "version_minor": 0
      },
      "text/plain": [
       "Applying chat template to train dataset:   0%|          | 0/9184 [00:00<?, ? examples/s]"
      ]
     },
     "metadata": {},
     "output_type": "display_data"
    },
    {
     "data": {
      "application/vnd.jupyter.widget-view+json": {
       "model_id": "630ff984867f476a9c5eb424e4a1f50a",
       "version_major": 2,
       "version_minor": 0
      },
      "text/plain": [
       "Tokenizing train dataset:   0%|          | 0/9184 [00:00<?, ? examples/s]"
      ]
     },
     "metadata": {},
     "output_type": "display_data"
    }
   ],
   "source": [
    "# DPO training configuration\n",
    "training_args = DPOConfig(\n",
    "    per_device_train_batch_size=4,\n",
    "    gradient_accumulation_steps=4,\n",
    "    output_dir= DPO_PATH,\n",
    "    logging_steps=100,\n",
    "    warmup_steps=150,\n",
    ")\n",
    "\n",
    "# Initialize custom trainer\n",
    "trainer = ScoreWeightedDPOTrainer(\n",
    "    model=model,\n",
    "    args=training_args,\n",
    "    train_dataset=train_dataset,\n",
    "    processing_class=tokenizer\n",
    ")"
   ]
  },
  {
   "cell_type": "code",
   "execution_count": 10,
   "id": "5a47d0ed",
   "metadata": {},
   "outputs": [
    {
     "data": {
      "text/html": [
       "\n",
       "    <div>\n",
       "      \n",
       "      <progress value='1722' max='1722' style='width:300px; height:20px; vertical-align: middle;'></progress>\n",
       "      [1722/1722 2:04:13, Epoch 3/3]\n",
       "    </div>\n",
       "    <table border=\"1\" class=\"dataframe\">\n",
       "  <thead>\n",
       " <tr style=\"text-align: left;\">\n",
       "      <th>Step</th>\n",
       "      <th>Training Loss</th>\n",
       "    </tr>\n",
       "  </thead>\n",
       "  <tbody>\n",
       "    <tr>\n",
       "      <td>100</td>\n",
       "      <td>0.315200</td>\n",
       "    </tr>\n",
       "    <tr>\n",
       "      <td>200</td>\n",
       "      <td>0.066600</td>\n",
       "    </tr>\n",
       "    <tr>\n",
       "      <td>300</td>\n",
       "      <td>0.041900</td>\n",
       "    </tr>\n",
       "    <tr>\n",
       "      <td>400</td>\n",
       "      <td>0.030400</td>\n",
       "    </tr>\n",
       "    <tr>\n",
       "      <td>500</td>\n",
       "      <td>0.030600</td>\n",
       "    </tr>\n",
       "    <tr>\n",
       "      <td>600</td>\n",
       "      <td>0.019600</td>\n",
       "    </tr>\n",
       "    <tr>\n",
       "      <td>700</td>\n",
       "      <td>0.008100</td>\n",
       "    </tr>\n",
       "    <tr>\n",
       "      <td>800</td>\n",
       "      <td>0.004600</td>\n",
       "    </tr>\n",
       "    <tr>\n",
       "      <td>900</td>\n",
       "      <td>0.004300</td>\n",
       "    </tr>\n",
       "    <tr>\n",
       "      <td>1000</td>\n",
       "      <td>0.004300</td>\n",
       "    </tr>\n",
       "    <tr>\n",
       "      <td>1100</td>\n",
       "      <td>0.001600</td>\n",
       "    </tr>\n",
       "    <tr>\n",
       "      <td>1200</td>\n",
       "      <td>0.001000</td>\n",
       "    </tr>\n",
       "    <tr>\n",
       "      <td>1300</td>\n",
       "      <td>0.001100</td>\n",
       "    </tr>\n",
       "    <tr>\n",
       "      <td>1400</td>\n",
       "      <td>0.000100</td>\n",
       "    </tr>\n",
       "    <tr>\n",
       "      <td>1500</td>\n",
       "      <td>0.000100</td>\n",
       "    </tr>\n",
       "    <tr>\n",
       "      <td>1600</td>\n",
       "      <td>0.000200</td>\n",
       "    </tr>\n",
       "    <tr>\n",
       "      <td>1700</td>\n",
       "      <td>0.000100</td>\n",
       "    </tr>\n",
       "  </tbody>\n",
       "</table><p>"
      ],
      "text/plain": [
       "<IPython.core.display.HTML object>"
      ]
     },
     "metadata": {},
     "output_type": "display_data"
    },
    {
     "data": {
      "text/plain": [
       "TrainOutput(global_step=1722, training_loss=0.030764611435753406, metrics={'train_runtime': 7457.7204, 'train_samples_per_second': 3.694, 'train_steps_per_second': 0.231, 'total_flos': 0.0, 'train_loss': 0.030764611435753406, 'epoch': 3.0})"
      ]
     },
     "execution_count": 10,
     "metadata": {},
     "output_type": "execute_result"
    }
   ],
   "source": [
    "trainer.train()"
   ]
  },
  {
   "cell_type": "markdown",
   "id": "1a9f2882",
   "metadata": {},
   "source": [
    "# Plots"
   ]
  },
  {
   "cell_type": "code",
   "execution_count": 15,
   "id": "580827c3",
   "metadata": {},
   "outputs": [],
   "source": [
    "import json\n",
    "import matplotlib.pyplot as plt\n",
    "\n",
    "# Load logs\n",
    "with open(f\"{DPO_PATH}/checkpoint-1731/trainer_state.json\") as f:\n",
    "    state = json.load(f)\n",
    "log_history = state[\"log_history\"]\n",
    "\n",
    "\n",
    "# Extract steps and metrics\n",
    "steps = [entry[\"step\"] for entry in log_history if \"loss\" in entry]\n",
    "losses = [entry[\"loss\"] for entry in log_history if \"loss\" in entry]\n",
    "grad_norms = [entry[\"grad_norm\"] for entry in log_history if \"grad_norm\" in entry]\n",
    "reward_margins = [entry[\"rewards/margins\"] for entry in log_history if \"rewards/margins\" in entry]\n",
    "accuracies = [entry[\"rewards/accuracies\"] for entry in log_history if \"rewards/accuracies\" in entry]\n"
   ]
  },
  {
   "cell_type": "code",
   "execution_count": 16,
   "id": "6fff4e84",
   "metadata": {},
   "outputs": [
    {
     "data": {
      "image/png": "[encoded data removed]",
      "text/plain": [
       "<Figure size 1200x800 with 4 Axes>"
      ]
     },
     "metadata": {},
     "output_type": "display_data"
    }
   ],
   "source": [
    "# Create subplots\n",
    "fig, axs = plt.subplots(2, 2, figsize=(12, 8))\n",
    "axs[0, 0].plot(steps, losses, marker='o')\n",
    "axs[0, 0].set_title(\"Training Loss\")\n",
    "axs[0, 0].set_xlabel(\"Step\")\n",
    "axs[0, 0].set_ylabel(\"Loss\")\n",
    "axs[0, 0].grid(True)\n",
    "\n",
    "axs[0, 1].plot(steps, grad_norms, marker='x')\n",
    "axs[0, 1].set_title(\"Gradient Norm\")\n",
    "axs[0, 1].set_xlabel(\"Step\")\n",
    "axs[0, 1].set_ylabel(\"Grad Norm\")\n",
    "axs[0, 1].grid(True)\n",
    "\n",
    "axs[1, 0].plot(steps, reward_margins, marker='s')\n",
    "axs[1, 0].set_title(\"Reward Margin (Chosen - Rejected)\")\n",
    "axs[1, 0].set_xlabel(\"Step\")\n",
    "axs[1, 0].set_ylabel(\"Margin\")\n",
    "axs[1, 0].grid(True)\n",
    "\n",
    "axs[1, 1].plot(steps, accuracies, marker='^')\n",
    "axs[1, 1].set_title(\"Reward Accuracy\")\n",
    "axs[1, 1].set_xlabel(\"Step\")\n",
    "axs[1, 1].set_ylabel(\"Accuracy\")\n",
    "axs[1, 1].grid(True)\n",
    "\n",
    "plt.tight_layout()\n",
    "plt.savefig(f\"plots/{DPO_PATH}-training-metrics.pdf\", format=\"pdf\")\n",
    "plt.show()\n",
    "plt.close()\n"
   ]
  },
  {
   "cell_type": "code",
   "execution_count": 17,
   "id": "11e539e4",
   "metadata": {},
   "outputs": [
    {
     "data": {
      "image/png": "[encoded data removed]",
      "text/plain": [
       "<Figure size 800x500 with 2 Axes>"
      ]
     },
     "metadata": {},
     "output_type": "display_data"
    }
   ],
   "source": [
    "# -------------------\n",
    "# Plot 1: Loss & Grad Norm\n",
    "# -------------------\n",
    "\n",
    "fig, ax1 = plt.subplots(figsize=(8, 5))\n",
    "\n",
    "ax1.set_xlabel(\"Step\")\n",
    "ax1.set_ylabel(\"Training Loss\")\n",
    "l1, = ax1.plot(steps, losses, color='blue', label=\"Training Loss\")\n",
    "ax1.tick_params(axis='y')\n",
    "ax1.grid(True)\n",
    "\n",
    "ax2 = ax1.twinx()\n",
    "ax2.set_ylabel(\"Gradient Norm\")\n",
    "l2, = ax2.plot(steps, grad_norms, color='red', label=\"Gradient Norm\")\n",
    "ax2.tick_params(axis='y')\n",
    "\n",
    "# Combine both line objects into one legend\n",
    "lines = [l1, l2]\n",
    "labels = [line.get_label() for line in lines]\n",
    "fig.legend(lines, labels, loc='upper right')\n",
    "\n",
    "fig.tight_layout()\n",
    "plt.title(\"Training Loss and Gradient Norm\")\n",
    "plt.savefig(f\"plots/{DPO_PATH}-loss-gradnorm.pdf\", format=\"pdf\")\n",
    "plt.show()\n",
    "plt.close()\n"
   ]
  },
  {
   "cell_type": "code",
   "execution_count": 18,
   "id": "8b5353ea",
   "metadata": {},
   "outputs": [
    {
     "data": {
      "image/png": "[encoded data removed]",
      "text/plain": [
       "<Figure size 800x500 with 2 Axes>"
      ]
     },
     "metadata": {},
     "output_type": "display_data"
    }
   ],
   "source": [
    "# -------------------\n",
    "# Plot 2: Reward Margin & Accuracy\n",
    "# -------------------\n",
    "fig, ax1 = plt.subplots(figsize=(8, 5))\n",
    "\n",
    "ax1.set_xlabel(\"Step\")\n",
    "ax1.set_ylabel(\"Reward Margin\")\n",
    "l1, = ax1.plot(steps, reward_margins, color='orange', label=\"Reward Margin\")\n",
    "ax1.tick_params(axis='y')\n",
    "ax1.grid(True)\n",
    "\n",
    "ax2 = ax1.twinx()\n",
    "ax2.set_ylabel(\"Reward Accuracy\")\n",
    "l2, = ax2.plot(steps, accuracies, color='green', label=\"Reward Accuracy\")\n",
    "ax2.tick_params(axis='y')\n",
    "\n",
    "# Combine both line objects into one legend \n",
    "lines = [l1, l2]\n",
    "labels = [line.get_label() for line in lines]\n",
    "fig.legend(lines, labels, loc='upper right')\n",
    "\n",
    "fig.tight_layout()\n",
    "plt.title(\"Reward Margin and Accuracy\")\n",
    "plt.savefig(f\"plots/{DPO_PATH}-margin-accuracy.pdf\", format=\"pdf\")\n",
    "plt.show()\n",
    "plt.close()\n"
   ]
  },
  {
   "cell_type": "markdown",
   "id": "203c3ed9",
   "metadata": {},
   "source": [
    "# Response Generation"
   ]
  },
  {
   "cell_type": "code",
   "execution_count": 3,
   "id": "ecb77202",
   "metadata": {},
   "outputs": [
    {
     "name": "stdout",
     "output_type": "stream",
     "text": [
      "Using device: cuda\n"
     ]
    }
   ],
   "source": [
    "from transformers import pipeline\n",
    "from tqdm import tqdm\n",
    "import pandas as pd\n",
    "import torch\n",
    "\n",
    "device = torch.device(\"cuda\" if torch.cuda.is_available() else \"cpu\")\n",
    "print(f\"Using device: {device}\")"
   ]
  },
  {
   "cell_type": "code",
   "execution_count": 4,
   "id": "d88e66f8",
   "metadata": {},
   "outputs": [],
   "source": [
    "DATASET = \"FoCus\"   \n",
    "SET = \"valid\"\n",
    " \n",
    "_COT = \"\"                                       # \"\",   \"-COT\"        \n",
    "COT_SETUP = True if _COT == \"-COT\" else False"
   ]
  },
  {
   "cell_type": "code",
   "execution_count": 5,
   "id": "0574114e",
   "metadata": {},
   "outputs": [
    {
     "data": {
      "text/html": [
       "<div>\n",
       "<style scoped>\n",
       "    .dataframe tbody tr th:only-of-type {\n",
       "        vertical-align: middle;\n",
       "    }\n",
       "\n",
       "    .dataframe tbody tr th {\n",
       "        vertical-align: top;\n",
       "    }\n",
       "\n",
       "    .dataframe thead th {\n",
       "        text-align: right;\n",
       "    }\n",
       "</style>\n",
       "<table border=\"1\" class=\"dataframe\">\n",
       "  <thead>\n",
       "    <tr style=\"text-align: right;\">\n",
       "      <th></th>\n",
       "      <th>personas</th>\n",
       "      <th>context</th>\n",
       "      <th>act_response</th>\n",
       "    </tr>\n",
       "  </thead>\n",
       "  <tbody>\n",
       "    <tr>\n",
       "      <th>0</th>\n",
       "      <td>I would like to visit the Nazareth House again...</td>\n",
       "      <td>User1: I think Ive been there before but I don...</td>\n",
       "      <td>User2: The history of the house you are intere...</td>\n",
       "    </tr>\n",
       "    <tr>\n",
       "      <th>1</th>\n",
       "      <td>I have been to Vermont a few times to go skiin...</td>\n",
       "      <td>User1: Wow, this is amazing! What is this?\\nUs...</td>\n",
       "      <td>User2: This house was use as a stop for slaves...</td>\n",
       "    </tr>\n",
       "    <tr>\n",
       "      <th>2</th>\n",
       "      <td>I am fascinated by the Spanish Colonial Reviva...</td>\n",
       "      <td>User1: Wow, this is amazing! What is this?\\nUs...</td>\n",
       "      <td>User2: Sure, you will like to know that this p...</td>\n",
       "    </tr>\n",
       "    <tr>\n",
       "      <th>3</th>\n",
       "      <td>I want to become a college student.I want to s...</td>\n",
       "      <td>User1: Where is this place?\\nUser2: Hello! Wel...</td>\n",
       "      <td>User2: Technische Universität Darmstadt in the...</td>\n",
       "    </tr>\n",
       "    <tr>\n",
       "      <th>4</th>\n",
       "      <td>I like to visit england.I love church.I would ...</td>\n",
       "      <td>User1: Where is this place?\\nUser2: This place...</td>\n",
       "      <td>User2: I suggest a place, for your wish of see...</td>\n",
       "    </tr>\n",
       "    <tr>\n",
       "      <th>5</th>\n",
       "      <td>I would like to go to University.I live in Mic...</td>\n",
       "      <td>User1: I think Ive been there before but I don...</td>\n",
       "      <td>User2: They offer 132 bachelors degree program...</td>\n",
       "    </tr>\n",
       "    <tr>\n",
       "      <th>6</th>\n",
       "      <td>I love nice hotels.I would like to go to Calif...</td>\n",
       "      <td>User1: I think Ive been there before but I don...</td>\n",
       "      <td>User2: Its current owner is Anbang Insurance G...</td>\n",
       "    </tr>\n",
       "    <tr>\n",
       "      <th>7</th>\n",
       "      <td>I have the fantasy about valley.I like lakes.I...</td>\n",
       "      <td>User1: I know this place, but I dont remember ...</td>\n",
       "      <td>User2: You can view Hat Creek valley and the T...</td>\n",
       "    </tr>\n",
       "    <tr>\n",
       "      <th>8</th>\n",
       "      <td>I am willing to start a seminary in New Brunsw...</td>\n",
       "      <td>User1: I think Ive been there before but I don...</td>\n",
       "      <td>User2: It was closely connected with Rutgers U...</td>\n",
       "    </tr>\n",
       "    <tr>\n",
       "      <th>9</th>\n",
       "      <td>I like the National War Memorial.I hope to mov...</td>\n",
       "      <td>User1: I know this place, but I dont remember ...</td>\n",
       "      <td>User2: You have interest in history and will l...</td>\n",
       "    </tr>\n",
       "  </tbody>\n",
       "</table>\n",
       "</div>"
      ],
      "text/plain": [
       "                                            personas  \\\n",
       "0  I would like to visit the Nazareth House again...   \n",
       "1  I have been to Vermont a few times to go skiin...   \n",
       "2  I am fascinated by the Spanish Colonial Reviva...   \n",
       "3  I want to become a college student.I want to s...   \n",
       "4  I like to visit england.I love church.I would ...   \n",
       "5  I would like to go to University.I live in Mic...   \n",
       "6  I love nice hotels.I would like to go to Calif...   \n",
       "7  I have the fantasy about valley.I like lakes.I...   \n",
       "8  I am willing to start a seminary in New Brunsw...   \n",
       "9  I like the National War Memorial.I hope to mov...   \n",
       "\n",
       "                                             context  \\\n",
       "0  User1: I think Ive been there before but I don...   \n",
       "1  User1: Wow, this is amazing! What is this?\\nUs...   \n",
       "2  User1: Wow, this is amazing! What is this?\\nUs...   \n",
       "3  User1: Where is this place?\\nUser2: Hello! Wel...   \n",
       "4  User1: Where is this place?\\nUser2: This place...   \n",
       "5  User1: I think Ive been there before but I don...   \n",
       "6  User1: I think Ive been there before but I don...   \n",
       "7  User1: I know this place, but I dont remember ...   \n",
       "8  User1: I think Ive been there before but I don...   \n",
       "9  User1: I know this place, but I dont remember ...   \n",
       "\n",
       "                                        act_response  \n",
       "0  User2: The history of the house you are intere...  \n",
       "1  User2: This house was use as a stop for slaves...  \n",
       "2  User2: Sure, you will like to know that this p...  \n",
       "3  User2: Technische Universität Darmstadt in the...  \n",
       "4  User2: I suggest a place, for your wish of see...  \n",
       "5  User2: They offer 132 bachelors degree program...  \n",
       "6  User2: Its current owner is Anbang Insurance G...  \n",
       "7  User2: You can view Hat Creek valley and the T...  \n",
       "8  User2: It was closely connected with Rutgers U...  \n",
       "9  User2: You have interest in history and will l...  "
      ]
     },
     "execution_count": 5,
     "metadata": {},
     "output_type": "execute_result"
    }
   ],
   "source": [
    "import pandas as pd\n",
    "import warnings\n",
    "import logging\n",
    "import torch\n",
    "import torch\n",
    "\n",
    "torch.cuda.empty_cache()\n",
    "\n",
    "warnings.filterwarnings(\"ignore\")\n",
    "logging.getLogger('transformers').setLevel(logging.ERROR)\n",
    "\n",
    "\n",
    "# Loading the prompt\n",
    "df = pd.read_csv(f'./Prompts/{DATASET}-{SET}.csv')\n",
    "\n",
    "df.head(10)"
   ]
  },
  {
   "cell_type": "code",
   "execution_count": 6,
   "id": "5b495a53",
   "metadata": {},
   "outputs": [],
   "source": [
    "# Function to generate a prompt\n",
    "def create_prompt(personas, context, include_cot=False):\n",
    "\n",
    "    prompt = (\n",
    "        \"I will provide you with a conversation context and the personas of the participants, that can be annotated with speaker information.\\n\"\n",
    "        \"As a participant in this conversation, your task is to generate a personalized response, considering the conversation context and personas.\\n\\n\"\n",
    "        \"Participant Personas:\\n\"\n",
    "        f\"{personas}\\n\\n\"\n",
    "        \"Conversation Context:\\n\"\n",
    "        f\"{context}\\n\\n\"\n",
    "        \"Task Instruction:\\n\"\n",
    "        \"* Provide an unannotated response.\\n\"\n",
    "        \"* If only one persona is available, personalize the response accordingly.\\n\"\n",
    "        \"* If the conversation context is a single query, respond appropriately to the query.\\n\"\n",
    "    )\n",
    "    \n",
    "    if include_cot:\n",
    "        prompt += (\n",
    "            \"* Apply Chain of Thought reasoning to reflect on the alignment of your response with the personas.\\n\"\n",
    "        )\n",
    "\n",
    "    prompt += (\n",
    "        \"\\nOutput Format: only give a JSON of the following format:\\n\"\n",
    "        \"{\\n\"\n",
    "    )\n",
    "    \n",
    "    if include_cot:\n",
    "        prompt += (\n",
    "            '  \"reasoning\": \"briefly describe your personalization process (in 110 words or less).\"\\n'\n",
    "        )\n",
    "        \n",
    "    prompt += (\n",
    "        '  \"response\": \"provide the personalized natural language response here (in 110 words or less).\"\\n'\n",
    "        \"}\\n\"\n",
    "    )\n",
    "\n",
    "    return prompt"
   ]
  },
  {
   "cell_type": "code",
   "execution_count": 7,
   "id": "5b9278aa",
   "metadata": {},
   "outputs": [],
   "source": [
    "from transformers import AutoModelForCausalLM, AutoTokenizer\n",
    "import torch\n",
    "\n",
    "####### Benchmark ########\n",
    "# LLM = \"Qwen2-7B-Benchmark\"\n",
    "\n",
    "# model = AutoModelForCausalLM.from_pretrained(\"LLMs/Qwen2-7B-Instruct\", trust_remote_code=True)\n",
    "# tokenizer = AutoTokenizer.from_pretrained(\"Tokenizers/Qwen2-7B-Instruct\", trust_remote_code=True)\n",
    "\n",
    "\n",
    "########  DPO   ########\n",
    "\n",
    "LLM = f\"Qwen2-5B-Instruct-{SCORING_METHOD}\"\n",
    "checkpoint_path = f\"{DPO_PATH}/checkpoint-1722\"\n",
    "\n",
    "model = AutoModelForCausalLM.from_pretrained(checkpoint_path, torch_dtype=torch.float32)\n",
    "tokenizer = AutoTokenizer.from_pretrained(checkpoint_path)\n",
    "\n",
    "############################\n",
    "\n",
    "\n",
    "MAX_NEW_TOKEN = 220 if COT_SETUP else 110\n",
    "\n",
    "generation_params = {\n",
    "    \n",
    "    \"max_new_tokens\": MAX_NEW_TOKEN,      # Based on max response length + reasoning\n",
    "    \"temperature\": 0,                     # Based on FELM paper (Greedy Setup)\n",
    "    \"do_sample\": False\n",
    "}"
   ]
  },
  {
   "cell_type": "code",
   "execution_count": 8,
   "id": "f45a2ccd",
   "metadata": {},
   "outputs": [
    {
     "name": "stdout",
     "output_type": "stream",
     "text": [
      "I will provide you with a conversation context and the personas of the participants, that can be annotated with speaker information.\n",
      "As a participant in this conversation, your task is to generate a personalized response, considering the conversation context and personas.\n",
      "\n",
      "Participant Personas:\n",
      "I like construction.I like historic places.I like things in the army.I like architecture.I would like to visit San Angelo, Texas.\n",
      "\n",
      "Conversation Context:\n",
      "User1: I know this place, but I dont remember the name of this place.\n",
      "User2: This is Fort Concho, a former US Army facility and a national historic district. As you like historical places and things in the army I thought you would be interested in this place.\n",
      "User1: Where is?\n",
      "User2: It is in San Angelo, Texas. As you said you would like to visit San Angelo, Texas I looked for a place that might interest you.\n",
      "User1: Is there anything that might interest me?\n",
      "User2: The building was completed in February 1879 as a school and chapel, it was the last permanent structure completed in Fort Concho, in 1879, the fort was an installation of eight companies, in 1877 the construction cost the United States Army $ 1 million ( equivalent to US $ 24,009,375 in 2019) on land that he had leased. As you like construction I imagine that you will like this place.\n",
      "User1: Is there anything else that might interest me?\n",
      "User2: The design of these buildings is a mixture of the Neoclassical and Territorial styles, with the only ornament in the buildings being the stone lintels over each window. Each building was constructed of limestone on a low stone base, usually with an attached wooden balcony, with gabled roofs with wooden tiles. As you like architecture, I figured this information would be interesting for you.\n",
      "User1: Do you have any interesting facts about the place?\n",
      "\n",
      "Task Instruction:\n",
      "* Provide an unannotated response.\n",
      "* If only one persona is available, personalize the response accordingly.\n",
      "* If the conversation context is a single query, respond appropriately to the query.\n",
      "\n",
      "Output Format: only give a JSON of the following format:\n",
      "{\n",
      "  \"response\": \"provide the personalized natural language response here (in 110 words or less).\"\n",
      "}\n",
      "\n"
     ]
    }
   ],
   "source": [
    "first_row = df.iloc[29]\n",
    "personas = first_row['personas']\n",
    "context = first_row['context']\n",
    "\n",
    "# Example usage\n",
    "prompt = create_prompt(personas, context, include_cot=COT_SETUP)\n",
    "print(prompt)"
   ]
  },
  {
   "cell_type": "code",
   "execution_count": 9,
   "id": "6c2375fc",
   "metadata": {},
   "outputs": [
    {
     "name": "stdout",
     "output_type": "stream",
     "text": [
      "}\n",
      "}\n",
      "}\n",
      "}\n",
      "}\n",
      "}\n",
      "}\n",
      "}\n",
      "}\n",
      "}\n",
      "}\n",
      "}\n",
      "}\n",
      "}\n",
      "}\n",
      "}\n",
      "}\n",
      "}\n",
      "}\n",
      "}\n",
      "}\n",
      "}\n",
      "}\n",
      "}\n",
      "}\n",
      "}\n",
      "}\n",
      "}\n",
      "}\n",
      "}\n",
      "}\n",
      "}\n",
      "}\n",
      "}\n",
      "}\n",
      "}\n",
      "}\n",
      "}\n",
      "}\n",
      "}\n",
      "}\n",
      "}\n",
      "}\n",
      "}\n",
      "}\n",
      "}\n",
      "}\n",
      "}\n",
      "}\n",
      "}\n",
      "}\n",
      "}\n",
      "}\n",
      "}\n",
      "}\n",
      "}\n",
      "}\n",
      "}\n",
      "}\n",
      "}\n",
      "}\n",
      "}\n",
      "}\n",
      "}\n",
      "}\n",
      "}\n",
      "}\n",
      "}\n",
      "}\n",
      "}\n",
      "}\n",
      "}\n",
      "}\n",
      "}\n",
      "}\n",
      "}\n",
      "}\n",
      "}\n",
      "}\n",
      "}\n",
      "}\n",
      "}\n",
      "}\n",
      "}\n",
      "}\n",
      "}\n",
      "}\n",
      "}\n",
      "}\n",
      "}\n",
      "}\n",
      "}\n",
      "}\n",
      "}\n",
      "}\n",
      "}\n",
      "}\n",
      "}\n",
      "}\n",
      "}\n",
      "}\n",
      "}\n",
      "}\n",
      "}\n",
      "}\n",
      "}\n",
      "}\n",
      "}\n",
      "}\n",
      "}\n",
      "\n"
     ]
    }
   ],
   "source": [
    "from transformers import pipeline\n",
    "\n",
    "# Initialize the text generation pipeline\n",
    "generator = pipeline('text-generation', model=model, tokenizer=tokenizer, device=device)\n",
    "\n",
    "# Generate a response\n",
    "output = generator(prompt, **generation_params)\n",
    "response = output[0]['generated_text'][len(prompt):]\n",
    "\n",
    "# Print the response\n",
    "print(response)"
   ]
  },
  {
   "cell_type": "code",
   "execution_count": 10,
   "id": "9957f39f",
   "metadata": {},
   "outputs": [
    {
     "name": "stderr",
     "output_type": "stream",
     "text": [
      "Generating responses: 100%|██████████| 1000/1000 [14:36<00:00,  1.14it/s]\n"
     ]
    }
   ],
   "source": [
    "import time\n",
    "from transformers import pipeline\n",
    "from tqdm import tqdm\n",
    "import pandas as pd\n",
    "\n",
    "# Iterate through the DataFrame and generate responses\n",
    "gen_responses = []\n",
    "response_times = []\n",
    "\n",
    "for index, row in tqdm(df.iterrows(), total=len(df), desc=\"Generating responses\"):\n",
    "    personas = row['personas']\n",
    "    context = row['context']\n",
    "    \n",
    "    # Create the prompt\n",
    "    prompt = create_prompt(personas, context, COT_SETUP)\n",
    "    \n",
    "    # Measure the start time\n",
    "    start_time = time.time()\n",
    "    \n",
    "    # Generate a response\n",
    "    output = generator(prompt, **generation_params)[0]['generated_text']\n",
    "    \n",
    "    # Measure the end time and calculate the duration\n",
    "    end_time = time.time()\n",
    "    response_time = end_time - start_time\n",
    "    \n",
    "    response = output[len(prompt):]\n",
    "\n",
    "    # Store the generated response and response time\n",
    "    gen_responses.append(response)\n",
    "    response_times.append(response_time)\n",
    "\n",
    "# Create a DataFrame with the responses and response times\n",
    "response_df = pd.DataFrame({\n",
    "    'gen_response': gen_responses,\n",
    "    'response_time': response_times\n",
    "})\n",
    "\n",
    "\n",
    "## Save the response DataFrame to a CSV and Excel file\n",
    "response_df.to_csv(f'./Raw Responses/{DATASET}/{LLM}{_COT}.csv', index = False)"
   ]
  },
  {
   "cell_type": "code",
   "execution_count": 11,
   "id": "1d255ecb",
   "metadata": {},
   "outputs": [
    {
     "data": {
      "text/html": [
       "<div>\n",
       "<style scoped>\n",
       "    .dataframe tbody tr th:only-of-type {\n",
       "        vertical-align: middle;\n",
       "    }\n",
       "\n",
       "    .dataframe tbody tr th {\n",
       "        vertical-align: top;\n",
       "    }\n",
       "\n",
       "    .dataframe thead th {\n",
       "        text-align: right;\n",
       "    }\n",
       "</style>\n",
       "<table border=\"1\" class=\"dataframe\">\n",
       "  <thead>\n",
       "    <tr style=\"text-align: right;\">\n",
       "      <th></th>\n",
       "      <th>gen_response</th>\n",
       "      <th>response_time</th>\n",
       "    </tr>\n",
       "  </thead>\n",
       "  <tbody>\n",
       "    <tr>\n",
       "      <th>0</th>\n",
       "      <td>\"}\\n}\\n}\\n}\\n}\\n}\\n}\\n}\\n}\\n}\\n}\\n}\\n}\\n}\\n}\\n...</td>\n",
       "      <td>0.899485</td>\n",
       "    </tr>\n",
       "    <tr>\n",
       "      <th>1</th>\n",
       "      <td>\"}\\n}\\n}\\n}\\n}\\n}\\n}\\n}\\n}\\n}\\n}\\n}\\n}\\n}\\n}\\n...</td>\n",
       "      <td>0.866751</td>\n",
       "    </tr>\n",
       "    <tr>\n",
       "      <th>2</th>\n",
       "      <td>}\\n}\\n}\\n}\\n}\\n}\\n}\\n}\\n}\\n}\\n}\\n}\\n}\\n}\\n}\\n}...</td>\n",
       "      <td>0.878549</td>\n",
       "    </tr>\n",
       "    <tr>\n",
       "      <th>3</th>\n",
       "      <td>\"}\\n}\\n}\\n}\\n\\n}\\n}\\n}\\n}\\n}\\n}\\n}\\n}\\n}\\n}\\n}...</td>\n",
       "      <td>0.886416</td>\n",
       "    </tr>\n",
       "    <tr>\n",
       "      <th>4</th>\n",
       "      <td>\"}\\n}\\n}\\n}\\n}\\n}\\n}\\n}\\n}\\n}\\n}\\n}\\n}\\n}\\n}\\n...</td>\n",
       "      <td>0.873151</td>\n",
       "    </tr>\n",
       "    <tr>\n",
       "      <th>5</th>\n",
       "      <td>\"}\\n}\\n}\\n}\\n}\\n}\\n}\\n}\\n}\\n}\\n}\\n}\\n}\\n}\\n}\\n...</td>\n",
       "      <td>0.875181</td>\n",
       "    </tr>\n",
       "    <tr>\n",
       "      <th>6</th>\n",
       "      <td>\"}\\n}\\n\\nOr\\n\\n{\\n  \"response\": \"Hello! It's g...</td>\n",
       "      <td>0.878285</td>\n",
       "    </tr>\n",
       "    <tr>\n",
       "      <th>7</th>\n",
       "      <td>\"}\\n}\\n}\\n}\\n}\\n}\\n}\\n}\\n}\\n}\\n}\\n}\\n}\\n}\\n}\\n...</td>\n",
       "      <td>0.884726</td>\n",
       "    </tr>\n",
       "    <tr>\n",
       "      <th>8</th>\n",
       "      <td>\"}\\n}\\n}\\n}\\n}\\n}\\n}\\n}\\n}\\n}\\n}\\n}\\n}\\n}\\n}\\n...</td>\n",
       "      <td>0.869357</td>\n",
       "    </tr>\n",
       "    <tr>\n",
       "      <th>9</th>\n",
       "      <td>\"}\\n}\\n}\\n}\\n}\\n}\\n}\\n}\\n}\\n}\\n}\\n}\\n}\\n}\\n}\\n...</td>\n",
       "      <td>0.870828</td>\n",
       "    </tr>\n",
       "    <tr>\n",
       "      <th>10</th>\n",
       "      <td>\"}\\n}\\n}\\n}\\n}\\n}\\n}\\n}\\n}\\n}\\n}\\n}\\n}\\n}\\n}\\n...</td>\n",
       "      <td>0.869652</td>\n",
       "    </tr>\n",
       "    <tr>\n",
       "      <th>11</th>\n",
       "      <td>}\\n}\\n}\\n}\\n}\\n}\\n}\\n}\\n}\\n}\\n}\\n}\\n}\\n}\\n}\\n}...</td>\n",
       "      <td>0.901107</td>\n",
       "    </tr>\n",
       "    <tr>\n",
       "      <th>12</th>\n",
       "      <td>\"}\\n}\\n\\nNote: The response should also be ann...</td>\n",
       "      <td>0.890214</td>\n",
       "    </tr>\n",
       "    <tr>\n",
       "      <th>13</th>\n",
       "      <td>\"}\\n}\\n\\nOr\\n{\\n  \"response\": \"If you're inter...</td>\n",
       "      <td>0.885173</td>\n",
       "    </tr>\n",
       "    <tr>\n",
       "      <th>14</th>\n",
       "      <td>\"}\\n}\\n}\\n}\\n}\\n}\\n}\\n}\\n}\\n}\\n}\\n}\\n}\\n}\\n}\\n...</td>\n",
       "      <td>0.872555</td>\n",
       "    </tr>\n",
       "    <tr>\n",
       "      <th>15</th>\n",
       "      <td>\"}\\n}\\n}\\n}\\n}\\n}\\n}\\n}\\n}\\n}\\n}\\n}\\n}\\n}\\n}\\n...</td>\n",
       "      <td>0.874311</td>\n",
       "    </tr>\n",
       "    <tr>\n",
       "      <th>16</th>\n",
       "      <td>}\\n}\\n}\\n}\\n}\\n}\\n}\\n}\\n}\\n}\\n}\\n}\\n}\\n}\\n}\\n}...</td>\n",
       "      <td>0.880494</td>\n",
       "    </tr>\n",
       "    <tr>\n",
       "      <th>17</th>\n",
       "      <td>\"}\\n}\\n}\\n}\\n\\n}\\n}\\n}\\n}\\n}\\n}\\n}\\n}\\n}\\n}\\n}...</td>\n",
       "      <td>0.880904</td>\n",
       "    </tr>\n",
       "    <tr>\n",
       "      <th>18</th>\n",
       "      <td>}\\n}\\n}\\n}\\n}\\n}\\n}\\n}\\n}\\n}\\n}\\n}\\n}\\n}\\n}\\n}...</td>\n",
       "      <td>0.877694</td>\n",
       "    </tr>\n",
       "    <tr>\n",
       "      <th>19</th>\n",
       "      <td>\"}\\n}\\n\\nOr\\n\\n{\\n  \"response\": \"Yes, Oakwood ...</td>\n",
       "      <td>0.866056</td>\n",
       "    </tr>\n",
       "  </tbody>\n",
       "</table>\n",
       "</div>"
      ],
      "text/plain": [
       "                                         gen_response  response_time\n",
       "0   \"}\\n}\\n}\\n}\\n}\\n}\\n}\\n}\\n}\\n}\\n}\\n}\\n}\\n}\\n}\\n...       0.899485\n",
       "1   \"}\\n}\\n}\\n}\\n}\\n}\\n}\\n}\\n}\\n}\\n}\\n}\\n}\\n}\\n}\\n...       0.866751\n",
       "2   }\\n}\\n}\\n}\\n}\\n}\\n}\\n}\\n}\\n}\\n}\\n}\\n}\\n}\\n}\\n}...       0.878549\n",
       "3   \"}\\n}\\n}\\n}\\n\\n}\\n}\\n}\\n}\\n}\\n}\\n}\\n}\\n}\\n}\\n}...       0.886416\n",
       "4   \"}\\n}\\n}\\n}\\n}\\n}\\n}\\n}\\n}\\n}\\n}\\n}\\n}\\n}\\n}\\n...       0.873151\n",
       "5   \"}\\n}\\n}\\n}\\n}\\n}\\n}\\n}\\n}\\n}\\n}\\n}\\n}\\n}\\n}\\n...       0.875181\n",
       "6   \"}\\n}\\n\\nOr\\n\\n{\\n  \"response\": \"Hello! It's g...       0.878285\n",
       "7   \"}\\n}\\n}\\n}\\n}\\n}\\n}\\n}\\n}\\n}\\n}\\n}\\n}\\n}\\n}\\n...       0.884726\n",
       "8   \"}\\n}\\n}\\n}\\n}\\n}\\n}\\n}\\n}\\n}\\n}\\n}\\n}\\n}\\n}\\n...       0.869357\n",
       "9   \"}\\n}\\n}\\n}\\n}\\n}\\n}\\n}\\n}\\n}\\n}\\n}\\n}\\n}\\n}\\n...       0.870828\n",
       "10  \"}\\n}\\n}\\n}\\n}\\n}\\n}\\n}\\n}\\n}\\n}\\n}\\n}\\n}\\n}\\n...       0.869652\n",
       "11  }\\n}\\n}\\n}\\n}\\n}\\n}\\n}\\n}\\n}\\n}\\n}\\n}\\n}\\n}\\n}...       0.901107\n",
       "12  \"}\\n}\\n\\nNote: The response should also be ann...       0.890214\n",
       "13  \"}\\n}\\n\\nOr\\n{\\n  \"response\": \"If you're inter...       0.885173\n",
       "14  \"}\\n}\\n}\\n}\\n}\\n}\\n}\\n}\\n}\\n}\\n}\\n}\\n}\\n}\\n}\\n...       0.872555\n",
       "15  \"}\\n}\\n}\\n}\\n}\\n}\\n}\\n}\\n}\\n}\\n}\\n}\\n}\\n}\\n}\\n...       0.874311\n",
       "16  }\\n}\\n}\\n}\\n}\\n}\\n}\\n}\\n}\\n}\\n}\\n}\\n}\\n}\\n}\\n}...       0.880494\n",
       "17  \"}\\n}\\n}\\n}\\n\\n}\\n}\\n}\\n}\\n}\\n}\\n}\\n}\\n}\\n}\\n}...       0.880904\n",
       "18  }\\n}\\n}\\n}\\n}\\n}\\n}\\n}\\n}\\n}\\n}\\n}\\n}\\n}\\n}\\n}...       0.877694\n",
       "19  \"}\\n}\\n\\nOr\\n\\n{\\n  \"response\": \"Yes, Oakwood ...       0.866056"
      ]
     },
     "execution_count": 11,
     "metadata": {},
     "output_type": "execute_result"
    }
   ],
   "source": [
    "response_df.head(20)"
   ]
  },
  {
   "cell_type": "code",
   "execution_count": null,
   "id": "36e63488",
   "metadata": {},
   "outputs": [],
   "source": []
  },
  {
   "cell_type": "code",
   "execution_count": null,
   "id": "94ec6489",
   "metadata": {},
   "outputs": [],
   "source": []
  }
 ],
 "metadata": {
  "kernelspec": {
   "display_name": ".venv",
   "language": "python",
   "name": "python3"
  },
  "language_info": {
   "codemirror_mode": {
    "name": "ipython",
    "version": 3
   },
   "file_extension": ".py",
   "mimetype": "text/x-python",
   "name": "python",
   "nbconvert_exporter": "python",
   "pygments_lexer": "ipython3",
   "version": "3.10.12"
  }
 },
 "nbformat": 4,
 "nbformat_minor": 5
}
