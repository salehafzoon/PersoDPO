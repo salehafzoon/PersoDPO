{
 "cells": [
  {
   "cell_type": "code",
   "execution_count": null,
   "id": "b5193893",
   "metadata": {},
   "outputs": [],
   "source": [
    "# pip install datasets trl transformers accelerate matplotlib ipywidgets"
   ]
  },
  {
   "cell_type": "code",
   "execution_count": 1,
   "id": "ff3aacfa",
   "metadata": {},
   "outputs": [],
   "source": [
    "DATASET = \"FoCus\"                      # \"BST_ITConvAI\", \"FoCus\" \n",
    "\n",
    "_COT = \"\"                                   #  \"\",    \"-COT\"\n",
    "\n",
    "SCORING_METHOD = \"length_prior\"                      # \"avg\",  \"length_prior\"\n",
    "\n",
    "DPO_PATH = f\"Qwen2-5B-Instruct-{DATASET}-{SCORING_METHOD}\""
   ]
  },
  {
   "cell_type": "markdown",
   "id": "176bfe4f",
   "metadata": {},
   "source": [
    "# Dataset Preparation"
   ]
  },
  {
   "cell_type": "code",
   "execution_count": 2,
   "id": "adc18058",
   "metadata": {},
   "outputs": [
    {
     "name": "stdout",
     "output_type": "stream",
     "text": [
      "Loading FoCus dataset with length_prior scoring method and  COT\n"
     ]
    },
    {
     "data": {
      "text/html": [
       "<div>\n",
       "<style scoped>\n",
       "    .dataframe tbody tr th:only-of-type {\n",
       "        vertical-align: middle;\n",
       "    }\n",
       "\n",
       "    .dataframe tbody tr th {\n",
       "        vertical-align: top;\n",
       "    }\n",
       "\n",
       "    .dataframe thead th {\n",
       "        text-align: right;\n",
       "    }\n",
       "</style>\n",
       "<table border=\"1\" class=\"dataframe\">\n",
       "  <thead>\n",
       "    <tr style=\"text-align: right;\">\n",
       "      <th></th>\n",
       "      <th>prompt</th>\n",
       "      <th>chosen</th>\n",
       "      <th>rejected</th>\n",
       "      <th>score_chosen</th>\n",
       "      <th>score_rejected</th>\n",
       "    </tr>\n",
       "  </thead>\n",
       "  <tbody>\n",
       "    <tr>\n",
       "      <th>0</th>\n",
       "      <td>I will provide you with a conversation context...</td>\n",
       "      <td>{\"response\": \"As a fellow lighthouse enthusias...</td>\n",
       "      <td>{\"response\": \"Yes, this lighthouse has made ap...</td>\n",
       "      <td>0.5935</td>\n",
       "      <td>0.5032</td>\n",
       "    </tr>\n",
       "    <tr>\n",
       "      <th>1</th>\n",
       "      <td>I will provide you with a conversation context...</td>\n",
       "      <td>{\"response\": \"As a fellow lighthouse enthusias...</td>\n",
       "      <td>{\"response\": \"The South Foreland Lighthouse is...</td>\n",
       "      <td>0.5935</td>\n",
       "      <td>0.5201</td>\n",
       "    </tr>\n",
       "    <tr>\n",
       "      <th>2</th>\n",
       "      <td>I will provide you with a conversation context...</td>\n",
       "      <td>{\"response\": \"As a fellow lighthouse enthusias...</td>\n",
       "      <td>{\"response\": \"I would love to visit the South ...</td>\n",
       "      <td>0.5935</td>\n",
       "      <td>0.4284</td>\n",
       "    </tr>\n",
       "  </tbody>\n",
       "</table>\n",
       "</div>"
      ],
      "text/plain": [
       "                                              prompt  \\\n",
       "0  I will provide you with a conversation context...   \n",
       "1  I will provide you with a conversation context...   \n",
       "2  I will provide you with a conversation context...   \n",
       "\n",
       "                                              chosen  \\\n",
       "0  {\"response\": \"As a fellow lighthouse enthusias...   \n",
       "1  {\"response\": \"As a fellow lighthouse enthusias...   \n",
       "2  {\"response\": \"As a fellow lighthouse enthusias...   \n",
       "\n",
       "                                            rejected  score_chosen  \\\n",
       "0  {\"response\": \"Yes, this lighthouse has made ap...        0.5935   \n",
       "1  {\"response\": \"The South Foreland Lighthouse is...        0.5935   \n",
       "2  {\"response\": \"I would love to visit the South ...        0.5935   \n",
       "\n",
       "   score_rejected  \n",
       "0          0.5032  \n",
       "1          0.5201  \n",
       "2          0.4284  "
      ]
     },
     "execution_count": 2,
     "metadata": {},
     "output_type": "execute_result"
    }
   ],
   "source": [
    "from datasets import Dataset\n",
    "import pandas as pd\n",
    "\n",
    "print( f\"Loading {DATASET} dataset with {SCORING_METHOD} scoring method and {_COT} COT\")\n",
    "\n",
    "\n",
    "if DATASET == \"BST_ITConvAI\":\n",
    "    bst_df = pd.read_csv(f\"dpo_datasets/Blended Skill Talk_dpo_{SCORING_METHOD}{_COT}.csv\")\n",
    "    convai_df = pd.read_csv(f\"dpo_datasets/IT-ConvAI2_dpo_{SCORING_METHOD}{_COT}.csv\")\n",
    "    df = pd.concat([bst_df, convai_df], ignore_index=True) \n",
    "    \n",
    "elif DATASET == \"FoCus\":\n",
    "    df = pd.read_csv(f\"dpo_datasets/FoCus_dpo_{SCORING_METHOD}{_COT}.csv\")\n",
    "\n",
    "\n",
    "train_dataset = Dataset.from_pandas(df)\n",
    "\n",
    "df.head(3)"
   ]
  },
  {
   "cell_type": "code",
   "execution_count": 3,
   "id": "7d0246fe",
   "metadata": {},
   "outputs": [
    {
     "name": "stdout",
     "output_type": "stream",
     "text": [
      "{'prompt': 'I will provide you with a conversation context and the personas of the participants, that can be annotated with speaker information.\\nAs a participant in this conversation, your task is to generate a personalized response, considering the conversation context and personas.\\n\\nParticipant Personas:\\nIm from New South Wales.I live in Wollongong.I work for the State Heritage Register.I love Music.I hate school.\\n\\nConversation Context:\\nUser1: I think Ive been there before but I dont remember the name of this place.\\nUser2: Its the Gleniffer Brae, a music conservatorium you might love.\\nUser1: And where is it located?\\nUser2: In the same city you live in, Wollongong.\\nUser1: Was it always a music conservatorium?\\nUser2: No, it used to be a residence and later a school, you must be glad that it isnt a school anymore.\\nUser1: Is it a heritage listed building?\\nUser2: Yes, it was added to the register in april of 1999. You should know this, since you work at the state heritage register.\\nUser1: Who designed it?\\nUser2: It was designed by Geoffrey D. Loveridg.\\nUser1: When was it built?\\n\\nTask Instruction:\\n* Provide an unannotated response.\\n* If only one persona is available, personalize the response accordingly.\\n* If the conversation context is a single query, respond appropriately to the query.\\n\\nOutput Format: only give a JSON of the following format:\\n{\\n  \"response\": \"provide the personalized natural language response here (in 110 words or less).\"\\n}\\n', 'chosen': '{\"response\": \"It was built in 1928. It\\'s fascinating how its history has evolved over the years!\"}', 'rejected': '{\"response\": \"It was constructed around the year 1900. I\\'m glad it\\'s not a school anymore too, considering my feelings about them. The Gleniffer Brae has quite a history, being transformed from a residence to a school before becoming a music conservatorium. It\\'s indeed a remarkable building, recognized for its architectural significance, which is why it\\'s part of the State Heritage Register.\"}', 'score_chosen': 0.6328, 'score_rejected': 0.4317}\n"
     ]
    }
   ],
   "source": [
    "print(train_dataset[600])  "
   ]
  },
  {
   "cell_type": "code",
   "execution_count": 4,
   "id": "7fb7371e",
   "metadata": {},
   "outputs": [
    {
     "name": "stdout",
     "output_type": "stream",
     "text": [
      "['prompt', 'chosen', 'rejected', 'score_chosen', 'score_rejected']\n",
      "9314\n"
     ]
    },
    {
     "data": {
      "text/plain": [
       "(9314, 5)"
      ]
     },
     "execution_count": 4,
     "metadata": {},
     "output_type": "execute_result"
    }
   ],
   "source": [
    "print(train_dataset.column_names)\n",
    "print(len(train_dataset))\n",
    "train_dataset.shape"
   ]
  },
  {
   "cell_type": "markdown",
   "id": "794b278a",
   "metadata": {},
   "source": [
    "# DPO Trainer"
   ]
  },
  {
   "cell_type": "code",
   "execution_count": 5,
   "id": "68a79e97",
   "metadata": {},
   "outputs": [],
   "source": [
    "from transformers import AutoModelForCausalLM, AutoTokenizer\n",
    "from trl import DPOConfig, DPOTrainer\n",
    "import torch"
   ]
  },
  {
   "cell_type": "markdown",
   "id": "b6efe9cc",
   "metadata": {},
   "source": [
    "## Simple DPO"
   ]
  },
  {
   "cell_type": "code",
   "execution_count": null,
   "id": "c3868ca0",
   "metadata": {},
   "outputs": [
    {
     "name": "stderr",
     "output_type": "stream",
     "text": [
      "Sliding Window Attention is enabled but not implemented for `sdpa`; unexpected results may be encountered.\n"
     ]
    },
    {
     "data": {
      "application/vnd.jupyter.widget-view+json": {
       "model_id": "17791d0ecef0441a8d15f351e41cbeff",
       "version_major": 2,
       "version_minor": 0
      },
      "text/plain": [
       "Loading checkpoint shards:   0%|          | 0/7 [00:00<?, ?it/s]"
      ]
     },
     "metadata": {},
     "output_type": "display_data"
    },
    {
     "data": {
      "application/vnd.jupyter.widget-view+json": {
       "model_id": "17e7b40eef4147f8a7c0a67614ee8011",
       "version_major": 2,
       "version_minor": 0
      },
      "text/plain": [
       "Extracting prompt in train dataset:   0%|          | 0/4165 [00:00<?, ? examples/s]"
      ]
     },
     "metadata": {},
     "output_type": "display_data"
    },
    {
     "data": {
      "application/vnd.jupyter.widget-view+json": {
       "model_id": "234e85a5250346b6bd6ee42dc398eb08",
       "version_major": 2,
       "version_minor": 0
      },
      "text/plain": [
       "Applying chat template to train dataset:   0%|          | 0/4165 [00:00<?, ? examples/s]"
      ]
     },
     "metadata": {},
     "output_type": "display_data"
    },
    {
     "data": {
      "application/vnd.jupyter.widget-view+json": {
       "model_id": "fbb8382850d44c93bb0979a7f725d176",
       "version_major": 2,
       "version_minor": 0
      },
      "text/plain": [
       "Tokenizing train dataset:   0%|          | 0/4165 [00:00<?, ? examples/s]"
      ]
     },
     "metadata": {},
     "output_type": "display_data"
    }
   ],
   "source": [
    "train_dataset = train_dataset.remove_columns([\"score_chosen\", \"score_rejected\"])\n",
    "\n",
    "model = AutoModelForCausalLM.from_pretrained(\"LLMs/Qwen2-7B-Instruct\", trust_remote_code=True, torch_dtype=torch.float32)\n",
    "tokenizer = AutoTokenizer.from_pretrained(\"Tokenizers/Qwen2-7B-Instruct\", trust_remote_code=True)\n",
    "\n",
    "training_args = DPOConfig(\n",
    "    per_device_train_batch_size=2,  # or 2\n",
    "    gradient_accumulation_steps=4,  # to simulate larger batch size\n",
    "    output_dir=\"Qwen2-5B-DPO\",\n",
    "    logging_steps=50,\n",
    ")\n",
    "\n",
    "trainer = DPOTrainer(model = model, args = training_args, processing_class = tokenizer, train_dataset= train_dataset)"
   ]
  },
  {
   "cell_type": "code",
   "execution_count": null,
   "id": "5c14ad04",
   "metadata": {},
   "outputs": [
    {
     "data": {
      "text/html": [
       "\n",
       "    <div>\n",
       "      \n",
       "      <progress value='699' max='699' style='width:300px; height:20px; vertical-align: middle;'></progress>\n",
       "      [699/699 19:18, Epoch 2/3]\n",
       "    </div>\n",
       "    <table border=\"1\" class=\"dataframe\">\n",
       "  <thead>\n",
       " <tr style=\"text-align: left;\">\n",
       "      <th>Step</th>\n",
       "      <th>Training Loss</th>\n",
       "    </tr>\n",
       "  </thead>\n",
       "  <tbody>\n",
       "    <tr>\n",
       "      <td>50</td>\n",
       "      <td>0.324600</td>\n",
       "    </tr>\n",
       "    <tr>\n",
       "      <td>100</td>\n",
       "      <td>0.232800</td>\n",
       "    </tr>\n",
       "    <tr>\n",
       "      <td>150</td>\n",
       "      <td>0.212800</td>\n",
       "    </tr>\n",
       "    <tr>\n",
       "      <td>200</td>\n",
       "      <td>0.225900</td>\n",
       "    </tr>\n",
       "    <tr>\n",
       "      <td>250</td>\n",
       "      <td>0.168200</td>\n",
       "    </tr>\n",
       "    <tr>\n",
       "      <td>300</td>\n",
       "      <td>0.066300</td>\n",
       "    </tr>\n",
       "    <tr>\n",
       "      <td>350</td>\n",
       "      <td>0.070600</td>\n",
       "    </tr>\n",
       "    <tr>\n",
       "      <td>400</td>\n",
       "      <td>0.064400</td>\n",
       "    </tr>\n",
       "    <tr>\n",
       "      <td>450</td>\n",
       "      <td>0.056300</td>\n",
       "    </tr>\n",
       "    <tr>\n",
       "      <td>500</td>\n",
       "      <td>0.032100</td>\n",
       "    </tr>\n",
       "    <tr>\n",
       "      <td>550</td>\n",
       "      <td>0.026400</td>\n",
       "    </tr>\n",
       "    <tr>\n",
       "      <td>600</td>\n",
       "      <td>0.017100</td>\n",
       "    </tr>\n",
       "    <tr>\n",
       "      <td>650</td>\n",
       "      <td>0.014700</td>\n",
       "    </tr>\n",
       "  </tbody>\n",
       "</table><p>"
      ],
      "text/plain": [
       "<IPython.core.display.HTML object>"
      ]
     },
     "metadata": {},
     "output_type": "display_data"
    },
    {
     "data": {
      "text/plain": [
       "TrainOutput(global_step=699, training_loss=0.10973983116245406, metrics={'train_runtime': 1160.1469, 'train_samples_per_second': 4.823, 'train_steps_per_second': 0.603, 'total_flos': 0.0, 'train_loss': 0.10973983116245406, 'epoch': 2.990353697749196})"
      ]
     },
     "execution_count": 7,
     "metadata": {},
     "output_type": "execute_result"
    }
   ],
   "source": [
    "trainer.train()"
   ]
  },
  {
   "cell_type": "code",
   "execution_count": 8,
   "id": "e33f1060",
   "metadata": {},
   "outputs": [
    {
     "name": "stdout",
     "output_type": "stream",
     "text": [
      "dict_keys(['loss', 'grad_norm', 'learning_rate', 'rewards/chosen', 'rewards/rejected', 'rewards/accuracies', 'rewards/margins', 'logps/chosen', 'logps/rejected', 'logits/chosen', 'logits/rejected', 'epoch', 'step'])\n"
     ]
    }
   ],
   "source": [
    "log_history = trainer.state.log_history\n",
    "\n",
    "print(log_history[0].keys())"
   ]
  },
  {
   "cell_type": "markdown",
   "id": "cdf21d0c",
   "metadata": {},
   "source": [
    "## Customized DPO"
   ]
  },
  {
   "cell_type": "code",
   "execution_count": 6,
   "id": "0a8d4f89",
   "metadata": {},
   "outputs": [],
   "source": [
    "from trl import DPOTrainer\n",
    "import torch\n",
    "import torch.nn.functional as F\n",
    "\n",
    "class ScoreWeightedDPOTrainer(DPOTrainer):\n",
    "    def _compute_loss(self, model, inputs, return_outputs=False):\n",
    "        # Extract input fields\n",
    "        chosen_input_ids = inputs[\"chosen_input_ids\"]\n",
    "        rejected_input_ids = inputs[\"rejected_input_ids\"]\n",
    "        attention_mask = inputs.get(\"attention_mask\", None)\n",
    "        scores_chosen = inputs[\"score_chosen\"]\n",
    "        scores_rejected = inputs[\"score_rejected\"]\n",
    "\n",
    "        # Use built-in DPO loss logic\n",
    "        loss_dict = self.dpo_loss(\n",
    "            model=model,\n",
    "            chosen_input_ids=chosen_input_ids,\n",
    "            rejected_input_ids=rejected_input_ids,\n",
    "            attention_mask=attention_mask,\n",
    "        )\n",
    "\n",
    "        base_loss = loss_dict[\"loss\"]  # shape: [batch_size]\n",
    "\n",
    "        # Compute margin and apply score-based weighting\n",
    "        margin = scores_chosen - scores_rejected  # shape: [batch_size]\n",
    "        weight = torch.sigmoid(margin)  # soft normalization to (0, 1)\n",
    "        weighted_loss = (weight * base_loss).mean()\n",
    "\n",
    "        return (weighted_loss, None) if return_outputs else weighted_loss"
   ]
  },
  {
   "cell_type": "code",
   "execution_count": 7,
   "id": "39822a85",
   "metadata": {},
   "outputs": [
    {
     "name": "stderr",
     "output_type": "stream",
     "text": [
      "Sliding Window Attention is enabled but not implemented for `sdpa`; unexpected results may be encountered.\n"
     ]
    }
   ],
   "source": [
    "import torch\n",
    "from transformers import AutoModelForCausalLM, AutoTokenizer\n",
    "\n",
    "model = AutoModelForCausalLM.from_pretrained(\"Qwen/Qwen2-0.5B-Instruct\", torch_dtype=torch.float32)\n",
    "tokenizer = AutoTokenizer.from_pretrained(\"Qwen/Qwen2-0.5B-Instruct\")"
   ]
  },
  {
   "cell_type": "code",
   "execution_count": 8,
   "id": "59d5eb62",
   "metadata": {},
   "outputs": [
    {
     "data": {
      "application/vnd.jupyter.widget-view+json": {
       "model_id": "f2c7c701f6e44bf1a5c13d2124fa0f8b",
       "version_major": 2,
       "version_minor": 0
      },
      "text/plain": [
       "Extracting prompt in train dataset:   0%|          | 0/9314 [00:00<?, ? examples/s]"
      ]
     },
     "metadata": {},
     "output_type": "display_data"
    },
    {
     "data": {
      "application/vnd.jupyter.widget-view+json": {
       "model_id": "993309d85be04cecb0eed286d8ab0a31",
       "version_major": 2,
       "version_minor": 0
      },
      "text/plain": [
       "Applying chat template to train dataset:   0%|          | 0/9314 [00:00<?, ? examples/s]"
      ]
     },
     "metadata": {},
     "output_type": "display_data"
    },
    {
     "data": {
      "application/vnd.jupyter.widget-view+json": {
       "model_id": "9ff16f0250844708a56e426498cd3fb2",
       "version_major": 2,
       "version_minor": 0
      },
      "text/plain": [
       "Tokenizing train dataset:   0%|          | 0/9314 [00:00<?, ? examples/s]"
      ]
     },
     "metadata": {},
     "output_type": "display_data"
    }
   ],
   "source": [
    "# DPO training configuration\n",
    "training_args = DPOConfig(\n",
    "    per_device_train_batch_size=4,\n",
    "    gradient_accumulation_steps=4,\n",
    "    output_dir= DPO_PATH,\n",
    "    logging_steps=50,\n",
    "    max_grad_norm=1.0,\n",
    "    warmup_steps=200,\n",
    ")\n",
    "\n",
    "# Initialize custom trainer\n",
    "trainer = ScoreWeightedDPOTrainer(\n",
    "    model=model,\n",
    "    args=training_args,\n",
    "    train_dataset=train_dataset,\n",
    "    processing_class=tokenizer\n",
    ")"
   ]
  },
  {
   "cell_type": "code",
   "execution_count": 9,
   "id": "5a47d0ed",
   "metadata": {},
   "outputs": [
    {
     "data": {
      "text/html": [
       "\n",
       "    <div>\n",
       "      \n",
       "      <progress value='1746' max='1746' style='width:300px; height:20px; vertical-align: middle;'></progress>\n",
       "      [1746/1746 2:04:56, Epoch 2/3]\n",
       "    </div>\n",
       "    <table border=\"1\" class=\"dataframe\">\n",
       "  <thead>\n",
       " <tr style=\"text-align: left;\">\n",
       "      <th>Step</th>\n",
       "      <th>Training Loss</th>\n",
       "    </tr>\n",
       "  </thead>\n",
       "  <tbody>\n",
       "    <tr>\n",
       "      <td>50</td>\n",
       "      <td>0.484400</td>\n",
       "    </tr>\n",
       "    <tr>\n",
       "      <td>100</td>\n",
       "      <td>0.073800</td>\n",
       "    </tr>\n",
       "    <tr>\n",
       "      <td>150</td>\n",
       "      <td>0.074600</td>\n",
       "    </tr>\n",
       "    <tr>\n",
       "      <td>200</td>\n",
       "      <td>0.100200</td>\n",
       "    </tr>\n",
       "    <tr>\n",
       "      <td>250</td>\n",
       "      <td>0.061500</td>\n",
       "    </tr>\n",
       "    <tr>\n",
       "      <td>300</td>\n",
       "      <td>0.075600</td>\n",
       "    </tr>\n",
       "    <tr>\n",
       "      <td>350</td>\n",
       "      <td>0.062500</td>\n",
       "    </tr>\n",
       "    <tr>\n",
       "      <td>400</td>\n",
       "      <td>0.035000</td>\n",
       "    </tr>\n",
       "    <tr>\n",
       "      <td>450</td>\n",
       "      <td>0.056200</td>\n",
       "    </tr>\n",
       "    <tr>\n",
       "      <td>500</td>\n",
       "      <td>0.053700</td>\n",
       "    </tr>\n",
       "    <tr>\n",
       "      <td>550</td>\n",
       "      <td>0.041200</td>\n",
       "    </tr>\n",
       "    <tr>\n",
       "      <td>600</td>\n",
       "      <td>0.024300</td>\n",
       "    </tr>\n",
       "    <tr>\n",
       "      <td>650</td>\n",
       "      <td>0.016500</td>\n",
       "    </tr>\n",
       "    <tr>\n",
       "      <td>700</td>\n",
       "      <td>0.020500</td>\n",
       "    </tr>\n",
       "    <tr>\n",
       "      <td>750</td>\n",
       "      <td>0.008000</td>\n",
       "    </tr>\n",
       "    <tr>\n",
       "      <td>800</td>\n",
       "      <td>0.001300</td>\n",
       "    </tr>\n",
       "    <tr>\n",
       "      <td>850</td>\n",
       "      <td>0.002500</td>\n",
       "    </tr>\n",
       "    <tr>\n",
       "      <td>900</td>\n",
       "      <td>0.005800</td>\n",
       "    </tr>\n",
       "    <tr>\n",
       "      <td>950</td>\n",
       "      <td>0.006900</td>\n",
       "    </tr>\n",
       "    <tr>\n",
       "      <td>1000</td>\n",
       "      <td>0.002500</td>\n",
       "    </tr>\n",
       "    <tr>\n",
       "      <td>1050</td>\n",
       "      <td>0.023200</td>\n",
       "    </tr>\n",
       "    <tr>\n",
       "      <td>1100</td>\n",
       "      <td>0.004300</td>\n",
       "    </tr>\n",
       "    <tr>\n",
       "      <td>1150</td>\n",
       "      <td>0.004000</td>\n",
       "    </tr>\n",
       "    <tr>\n",
       "      <td>1200</td>\n",
       "      <td>0.008500</td>\n",
       "    </tr>\n",
       "    <tr>\n",
       "      <td>1250</td>\n",
       "      <td>0.000100</td>\n",
       "    </tr>\n",
       "    <tr>\n",
       "      <td>1300</td>\n",
       "      <td>0.000100</td>\n",
       "    </tr>\n",
       "    <tr>\n",
       "      <td>1350</td>\n",
       "      <td>0.000100</td>\n",
       "    </tr>\n",
       "    <tr>\n",
       "      <td>1400</td>\n",
       "      <td>0.000100</td>\n",
       "    </tr>\n",
       "    <tr>\n",
       "      <td>1450</td>\n",
       "      <td>0.000000</td>\n",
       "    </tr>\n",
       "    <tr>\n",
       "      <td>1500</td>\n",
       "      <td>0.000200</td>\n",
       "    </tr>\n",
       "    <tr>\n",
       "      <td>1550</td>\n",
       "      <td>0.000300</td>\n",
       "    </tr>\n",
       "    <tr>\n",
       "      <td>1600</td>\n",
       "      <td>0.000100</td>\n",
       "    </tr>\n",
       "    <tr>\n",
       "      <td>1650</td>\n",
       "      <td>0.001300</td>\n",
       "    </tr>\n",
       "    <tr>\n",
       "      <td>1700</td>\n",
       "      <td>0.000100</td>\n",
       "    </tr>\n",
       "  </tbody>\n",
       "</table><p>"
      ],
      "text/plain": [
       "<IPython.core.display.HTML object>"
      ]
     },
     "metadata": {},
     "output_type": "display_data"
    },
    {
     "data": {
      "text/plain": [
       "TrainOutput(global_step=1746, training_loss=0.03578171940261172, metrics={'train_runtime': 7500.5806, 'train_samples_per_second': 3.725, 'train_steps_per_second': 0.233, 'total_flos': 0.0, 'train_loss': 0.03578171940261172, 'epoch': 2.996135680549592})"
      ]
     },
     "execution_count": 9,
     "metadata": {},
     "output_type": "execute_result"
    }
   ],
   "source": [
    "trainer.train()"
   ]
  },
  {
   "cell_type": "markdown",
   "id": "1a9f2882",
   "metadata": {},
   "source": [
    "# Plots"
   ]
  },
  {
   "cell_type": "code",
   "execution_count": 2,
   "id": "580827c3",
   "metadata": {},
   "outputs": [],
   "source": [
    "import json\n",
    "import matplotlib.pyplot as plt\n",
    "\n",
    "# Load logs\n",
    "with open(f\"{DPO_PATH}/checkpoint-1746/trainer_state.json\") as f:\n",
    "    state = json.load(f)\n",
    "log_history = state[\"log_history\"]\n",
    "\n",
    "\n",
    "# Extract steps and metrics\n",
    "steps = [entry[\"step\"] for entry in log_history if \"loss\" in entry]\n",
    "losses = [entry[\"loss\"] for entry in log_history if \"loss\" in entry]\n",
    "grad_norms = [entry[\"grad_norm\"] for entry in log_history if \"grad_norm\" in entry]\n",
    "reward_margins = [entry[\"rewards/margins\"] for entry in log_history if \"rewards/margins\" in entry]\n",
    "accuracies = [entry[\"rewards/accuracies\"] for entry in log_history if \"rewards/accuracies\" in entry]\n"
   ]
  },
  {
   "cell_type": "code",
   "execution_count": 3,
   "id": "6fff4e84",
   "metadata": {},
   "outputs": [
    {
     "data": {
      "image/png": "[encoded data removed]",
      "text/plain": [
       "<Figure size 1200x800 with 4 Axes>"
      ]
     },
     "metadata": {},
     "output_type": "display_data"
    }
   ],
   "source": [
    "# Create subplots\n",
    "fig, axs = plt.subplots(2, 2, figsize=(12, 8))\n",
    "axs[0, 0].plot(steps, losses, marker='o')\n",
    "axs[0, 0].set_title(\"Training Loss\")\n",
    "axs[0, 0].set_xlabel(\"Step\")\n",
    "axs[0, 0].set_ylabel(\"Loss\")\n",
    "axs[0, 0].grid(True)\n",
    "\n",
    "axs[0, 1].plot(steps, grad_norms, marker='x')\n",
    "axs[0, 1].set_title(\"Gradient Norm\")\n",
    "axs[0, 1].set_xlabel(\"Step\")\n",
    "axs[0, 1].set_ylabel(\"Grad Norm\")\n",
    "axs[0, 1].grid(True)\n",
    "\n",
    "axs[1, 0].plot(steps, reward_margins, marker='s')\n",
    "axs[1, 0].set_title(\"Reward Margin (Chosen - Rejected)\")\n",
    "axs[1, 0].set_xlabel(\"Step\")\n",
    "axs[1, 0].set_ylabel(\"Margin\")\n",
    "axs[1, 0].grid(True)\n",
    "\n",
    "axs[1, 1].plot(steps, accuracies, marker='^')\n",
    "axs[1, 1].set_title(\"Reward Accuracy\")\n",
    "axs[1, 1].set_xlabel(\"Step\")\n",
    "axs[1, 1].set_ylabel(\"Accuracy\")\n",
    "axs[1, 1].grid(True)\n",
    "\n",
    "plt.tight_layout()\n",
    "plt.savefig(f\"plots/{DPO_PATH}-training-metrics.pdf\", format=\"pdf\")\n",
    "plt.show()\n",
    "plt.close()\n"
   ]
  },
  {
   "cell_type": "code",
   "execution_count": 4,
   "id": "11e539e4",
   "metadata": {},
   "outputs": [
    {
     "data": {
      "image/png": "[encoded data removed]",
      "text/plain": [
       "<Figure size 800x500 with 2 Axes>"
      ]
     },
     "metadata": {},
     "output_type": "display_data"
    }
   ],
   "source": [
    "# -------------------\n",
    "# Plot 1: Loss & Grad Norm\n",
    "# -------------------\n",
    "\n",
    "fig, ax1 = plt.subplots(figsize=(8, 5))\n",
    "\n",
    "ax1.set_xlabel(\"Step\")\n",
    "ax1.set_ylabel(\"Training Loss\")\n",
    "l1, = ax1.plot(steps, losses, color='blue', label=\"Training Loss\")\n",
    "ax1.tick_params(axis='y')\n",
    "ax1.grid(True)\n",
    "\n",
    "ax2 = ax1.twinx()\n",
    "ax2.set_ylabel(\"Gradient Norm\")\n",
    "l2, = ax2.plot(steps, grad_norms, color='red', label=\"Gradient Norm\")\n",
    "ax2.tick_params(axis='y')\n",
    "\n",
    "# Combine both line objects into one legend\n",
    "lines = [l1, l2]\n",
    "labels = [line.get_label() for line in lines]\n",
    "fig.legend(lines, labels, loc='upper right')\n",
    "\n",
    "fig.tight_layout()\n",
    "plt.title(\"Training Loss and Gradient Norm\")\n",
    "plt.savefig(f\"plots/{DPO_PATH}-loss-gradnorm.pdf\", format=\"pdf\")\n",
    "plt.show()\n",
    "plt.close()\n"
   ]
  },
  {
   "cell_type": "code",
   "execution_count": 5,
   "id": "8b5353ea",
   "metadata": {},
   "outputs": [
    {
     "data": {
      "image/png": "[encoded data removed]",
      "text/plain": [
       "<Figure size 800x500 with 2 Axes>"
      ]
     },
     "metadata": {},
     "output_type": "display_data"
    }
   ],
   "source": [
    "# -------------------\n",
    "# Plot 2: Reward Margin & Accuracy\n",
    "# -------------------\n",
    "fig, ax1 = plt.subplots(figsize=(8, 5))\n",
    "\n",
    "ax1.set_xlabel(\"Step\")\n",
    "ax1.set_ylabel(\"Reward Margin\")\n",
    "l1, = ax1.plot(steps, reward_margins, color='orange', label=\"Reward Margin\")\n",
    "ax1.tick_params(axis='y')\n",
    "ax1.grid(True)\n",
    "\n",
    "ax2 = ax1.twinx()\n",
    "ax2.set_ylabel(\"Reward Accuracy\")\n",
    "l2, = ax2.plot(steps, accuracies, color='green', label=\"Reward Accuracy\")\n",
    "ax2.tick_params(axis='y')\n",
    "\n",
    "# Combine both line objects into one legend \n",
    "lines = [l1, l2]\n",
    "labels = [line.get_label() for line in lines]\n",
    "fig.legend(lines, labels, loc='upper right')\n",
    "\n",
    "fig.tight_layout()\n",
    "plt.title(\"Reward Margin and Accuracy\")\n",
    "plt.savefig(f\"plots/{DPO_PATH}-margin-accuracy.pdf\", format=\"pdf\")\n",
    "plt.show()\n",
    "plt.close()\n"
   ]
  },
  {
   "cell_type": "markdown",
   "id": "203c3ed9",
   "metadata": {},
   "source": [
    "# Response Generation"
   ]
  },
  {
   "cell_type": "code",
   "execution_count": 6,
   "id": "ecb77202",
   "metadata": {},
   "outputs": [
    {
     "name": "stdout",
     "output_type": "stream",
     "text": [
      "Using device: cuda\n"
     ]
    }
   ],
   "source": [
    "from transformers import pipeline\n",
    "from tqdm import tqdm\n",
    "import pandas as pd\n",
    "import torch\n",
    "\n",
    "device = torch.device(\"cuda\" if torch.cuda.is_available() else \"cpu\")\n",
    "print(f\"Using device: {device}\")"
   ]
  },
  {
   "cell_type": "code",
   "execution_count": 7,
   "id": "d88e66f8",
   "metadata": {},
   "outputs": [],
   "source": [
    "DATASET = \"FoCus\"   \n",
    "SET = \"valid\"\n",
    " \n",
    "_COT = \"\"                                       # \"\",   \"-COT\"        \n",
    "COT_SETUP = True if _COT == \"-COT\" else False"
   ]
  },
  {
   "cell_type": "code",
   "execution_count": 8,
   "id": "0574114e",
   "metadata": {},
   "outputs": [
    {
     "data": {
      "text/html": [
       "<div>\n",
       "<style scoped>\n",
       "    .dataframe tbody tr th:only-of-type {\n",
       "        vertical-align: middle;\n",
       "    }\n",
       "\n",
       "    .dataframe tbody tr th {\n",
       "        vertical-align: top;\n",
       "    }\n",
       "\n",
       "    .dataframe thead th {\n",
       "        text-align: right;\n",
       "    }\n",
       "</style>\n",
       "<table border=\"1\" class=\"dataframe\">\n",
       "  <thead>\n",
       "    <tr style=\"text-align: right;\">\n",
       "      <th></th>\n",
       "      <th>personas</th>\n",
       "      <th>context</th>\n",
       "      <th>act_response</th>\n",
       "    </tr>\n",
       "  </thead>\n",
       "  <tbody>\n",
       "    <tr>\n",
       "      <th>0</th>\n",
       "      <td>I would like to visit the Nazareth House again...</td>\n",
       "      <td>User1: I think Ive been there before but I don...</td>\n",
       "      <td>User2: The history of the house you are intere...</td>\n",
       "    </tr>\n",
       "    <tr>\n",
       "      <th>1</th>\n",
       "      <td>I have been to Vermont a few times to go skiin...</td>\n",
       "      <td>User1: Wow, this is amazing! What is this?\\nUs...</td>\n",
       "      <td>User2: This house was use as a stop for slaves...</td>\n",
       "    </tr>\n",
       "    <tr>\n",
       "      <th>2</th>\n",
       "      <td>I am fascinated by the Spanish Colonial Reviva...</td>\n",
       "      <td>User1: Wow, this is amazing! What is this?\\nUs...</td>\n",
       "      <td>User2: Sure, you will like to know that this p...</td>\n",
       "    </tr>\n",
       "    <tr>\n",
       "      <th>3</th>\n",
       "      <td>I want to become a college student.I want to s...</td>\n",
       "      <td>User1: Where is this place?\\nUser2: Hello! Wel...</td>\n",
       "      <td>User2: Technische Universität Darmstadt in the...</td>\n",
       "    </tr>\n",
       "    <tr>\n",
       "      <th>4</th>\n",
       "      <td>I like to visit england.I love church.I would ...</td>\n",
       "      <td>User1: Where is this place?\\nUser2: This place...</td>\n",
       "      <td>User2: I suggest a place, for your wish of see...</td>\n",
       "    </tr>\n",
       "    <tr>\n",
       "      <th>5</th>\n",
       "      <td>I would like to go to University.I live in Mic...</td>\n",
       "      <td>User1: I think Ive been there before but I don...</td>\n",
       "      <td>User2: They offer 132 bachelors degree program...</td>\n",
       "    </tr>\n",
       "    <tr>\n",
       "      <th>6</th>\n",
       "      <td>I love nice hotels.I would like to go to Calif...</td>\n",
       "      <td>User1: I think Ive been there before but I don...</td>\n",
       "      <td>User2: Its current owner is Anbang Insurance G...</td>\n",
       "    </tr>\n",
       "    <tr>\n",
       "      <th>7</th>\n",
       "      <td>I have the fantasy about valley.I like lakes.I...</td>\n",
       "      <td>User1: I know this place, but I dont remember ...</td>\n",
       "      <td>User2: You can view Hat Creek valley and the T...</td>\n",
       "    </tr>\n",
       "    <tr>\n",
       "      <th>8</th>\n",
       "      <td>I am willing to start a seminary in New Brunsw...</td>\n",
       "      <td>User1: I think Ive been there before but I don...</td>\n",
       "      <td>User2: It was closely connected with Rutgers U...</td>\n",
       "    </tr>\n",
       "    <tr>\n",
       "      <th>9</th>\n",
       "      <td>I like the National War Memorial.I hope to mov...</td>\n",
       "      <td>User1: I know this place, but I dont remember ...</td>\n",
       "      <td>User2: You have interest in history and will l...</td>\n",
       "    </tr>\n",
       "  </tbody>\n",
       "</table>\n",
       "</div>"
      ],
      "text/plain": [
       "                                            personas  \\\n",
       "0  I would like to visit the Nazareth House again...   \n",
       "1  I have been to Vermont a few times to go skiin...   \n",
       "2  I am fascinated by the Spanish Colonial Reviva...   \n",
       "3  I want to become a college student.I want to s...   \n",
       "4  I like to visit england.I love church.I would ...   \n",
       "5  I would like to go to University.I live in Mic...   \n",
       "6  I love nice hotels.I would like to go to Calif...   \n",
       "7  I have the fantasy about valley.I like lakes.I...   \n",
       "8  I am willing to start a seminary in New Brunsw...   \n",
       "9  I like the National War Memorial.I hope to mov...   \n",
       "\n",
       "                                             context  \\\n",
       "0  User1: I think Ive been there before but I don...   \n",
       "1  User1: Wow, this is amazing! What is this?\\nUs...   \n",
       "2  User1: Wow, this is amazing! What is this?\\nUs...   \n",
       "3  User1: Where is this place?\\nUser2: Hello! Wel...   \n",
       "4  User1: Where is this place?\\nUser2: This place...   \n",
       "5  User1: I think Ive been there before but I don...   \n",
       "6  User1: I think Ive been there before but I don...   \n",
       "7  User1: I know this place, but I dont remember ...   \n",
       "8  User1: I think Ive been there before but I don...   \n",
       "9  User1: I know this place, but I dont remember ...   \n",
       "\n",
       "                                        act_response  \n",
       "0  User2: The history of the house you are intere...  \n",
       "1  User2: This house was use as a stop for slaves...  \n",
       "2  User2: Sure, you will like to know that this p...  \n",
       "3  User2: Technische Universität Darmstadt in the...  \n",
       "4  User2: I suggest a place, for your wish of see...  \n",
       "5  User2: They offer 132 bachelors degree program...  \n",
       "6  User2: Its current owner is Anbang Insurance G...  \n",
       "7  User2: You can view Hat Creek valley and the T...  \n",
       "8  User2: It was closely connected with Rutgers U...  \n",
       "9  User2: You have interest in history and will l...  "
      ]
     },
     "execution_count": 8,
     "metadata": {},
     "output_type": "execute_result"
    }
   ],
   "source": [
    "import pandas as pd\n",
    "import warnings\n",
    "import logging\n",
    "import torch\n",
    "import torch\n",
    "\n",
    "torch.cuda.empty_cache()\n",
    "\n",
    "warnings.filterwarnings(\"ignore\")\n",
    "logging.getLogger('transformers').setLevel(logging.ERROR)\n",
    "\n",
    "\n",
    "# Loading the prompt\n",
    "df = pd.read_csv(f'./Prompts/{DATASET}-{SET}.csv')\n",
    "\n",
    "df.head(10)"
   ]
  },
  {
   "cell_type": "code",
   "execution_count": 9,
   "id": "5b495a53",
   "metadata": {},
   "outputs": [],
   "source": [
    "# Function to generate a prompt\n",
    "def create_prompt(personas, context, include_cot=False):\n",
    "\n",
    "    prompt = (\n",
    "        \"I will provide you with a conversation context and the personas of the participants, that can be annotated with speaker information.\\n\"\n",
    "        \"As a participant in this conversation, your task is to generate a personalized response, considering the conversation context and personas.\\n\\n\"\n",
    "        \"Participant Personas:\\n\"\n",
    "        f\"{personas}\\n\\n\"\n",
    "        \"Conversation Context:\\n\"\n",
    "        f\"{context}\\n\\n\"\n",
    "        \"Task Instruction:\\n\"\n",
    "        \"* Provide an unannotated response.\\n\"\n",
    "        \"* If only one persona is available, personalize the response accordingly.\\n\"\n",
    "        \"* If the conversation context is a single query, respond appropriately to the query.\\n\"\n",
    "    )\n",
    "    \n",
    "    if include_cot:\n",
    "        prompt += (\n",
    "            \"* Apply Chain of Thought reasoning to reflect on the alignment of your response with the personas.\\n\"\n",
    "        )\n",
    "\n",
    "    prompt += (\n",
    "        \"\\nOutput Format: only give a JSON of the following format:\\n\"\n",
    "        \"{\\n\"\n",
    "    )\n",
    "    \n",
    "    if include_cot:\n",
    "        prompt += (\n",
    "            '  \"reasoning\": \"briefly describe your personalization process (in 110 words or less).\"\\n'\n",
    "        )\n",
    "        \n",
    "    prompt += (\n",
    "        '  \"response\": \"provide the personalized natural language response here (in 110 words or less).\"\\n'\n",
    "        \"}\\n\"\n",
    "    )\n",
    "\n",
    "    return prompt"
   ]
  },
  {
   "cell_type": "code",
   "execution_count": 10,
   "id": "5b9278aa",
   "metadata": {},
   "outputs": [],
   "source": [
    "from transformers import AutoModelForCausalLM, AutoTokenizer\n",
    "import torch\n",
    "\n",
    "####### Benchmark ########\n",
    "# LLM = \"Qwen2-7B-Benchmark\"\n",
    "\n",
    "# model = AutoModelForCausalLM.from_pretrained(\"LLMs/Qwen2-7B-Instruct\", trust_remote_code=True)\n",
    "# tokenizer = AutoTokenizer.from_pretrained(\"Tokenizers/Qwen2-7B-Instruct\", trust_remote_code=True)\n",
    "\n",
    "\n",
    "########  DPO   ########\n",
    "\n",
    "LLM = f\"Qwen2-5B-Instruct-{SCORING_METHOD}\"\n",
    "checkpoint_path = f\"{DPO_PATH}/checkpoint-1746\"\n",
    "\n",
    "model = AutoModelForCausalLM.from_pretrained(checkpoint_path, torch_dtype=torch.float32)\n",
    "tokenizer = AutoTokenizer.from_pretrained(checkpoint_path)\n",
    "\n",
    "############################\n",
    "\n",
    "\n",
    "MAX_NEW_TOKEN = 220 if COT_SETUP else 110\n",
    "\n",
    "generation_params = {\n",
    "    \n",
    "    \"max_new_tokens\": MAX_NEW_TOKEN,      # Based on max response length + reasoning\n",
    "    \"temperature\": 0,                     # Based on FELM paper (Greedy Setup)\n",
    "    \"do_sample\": False\n",
    "}"
   ]
  },
  {
   "cell_type": "code",
   "execution_count": 11,
   "id": "f45a2ccd",
   "metadata": {},
   "outputs": [
    {
     "name": "stdout",
     "output_type": "stream",
     "text": [
      "I will provide you with a conversation context and the personas of the participants, that can be annotated with speaker information.\n",
      "As a participant in this conversation, your task is to generate a personalized response, considering the conversation context and personas.\n",
      "\n",
      "Participant Personas:\n",
      "I like palaces.I love monuments.I would like to visit beautiful gardens.I am a fan of the Baroque style.I have visited Versailles.\n",
      "\n",
      "Conversation Context:\n",
      "User1: Where is this place?\n",
      "User2: This place is the Royal Palace of Aranjuez, in the town of Aranjuez, near Madrid. Since you love monuments, you may like to know that this is one of the most remarkable baroque monuments in Spain.\n",
      "User1: Do this palace have any gardens I could visit?\n",
      "User2: Yes, in fact the palace has two different gardens: the Jardín del Parterre and the Jardín de la Isla. Since you love beautiful gardens I´m sure you´ll enjoy visiting them.\n",
      "User1: Can you tell me a little more about the palace´s style?\n",
      "User2: Of course. The palace mixes different styles from renaissance, to Baroque and Neoclassical. Since you love the Baroque style, you may be interested in visiting the impressive Rococó Porcelain Room.\n",
      "User1: Could you tell me which architect designed the palace?\n",
      "User2: The palace and gardens were the work of different architects at different times. The architects were Juan Bautista de Toledo, the great Juan de Herrera, the famous Francesco Sabatini, Giuseppe Gricci and Rafael Contreras Muñoz.\n",
      "User1: Is this palace similar to Versailles?\n",
      "User2: Yes, because in 1700, the first Bourbon king of Spain, Philip V determined to restart the work intentionally to create Aranjuez a rival to the grand palace of Versilles.\n",
      "User1: Can you tell me some other interesting facts about the palace?\n",
      "\n",
      "Task Instruction:\n",
      "* Provide an unannotated response.\n",
      "* If only one persona is available, personalize the response accordingly.\n",
      "* If the conversation context is a single query, respond appropriately to the query.\n",
      "\n",
      "Output Format: only give a JSON of the following format:\n",
      "{\n",
      "  \"response\": \"provide the personalized natural language response here (in 110 words or less).\"\n",
      "}\n",
      "\n"
     ]
    }
   ],
   "source": [
    "first_row = df.iloc[145]\n",
    "personas = first_row['personas']\n",
    "context = first_row['context']\n",
    "\n",
    "# Example usage\n",
    "prompt = create_prompt(personas, context, include_cot=COT_SETUP)\n",
    "print(prompt)"
   ]
  },
  {
   "cell_type": "code",
   "execution_count": 12,
   "id": "6c2375fc",
   "metadata": {},
   "outputs": [
    {
     "name": "stdout",
     "output_type": "stream",
     "text": [
      "Input Context:\n",
      "{\"user\": \"Where are these places? What's inside?,\" \"context\": \"The user is asking about palaces and gardens.\"} As mentioned, the response should be personal and tailored to the input context. Please convert the raw text into a JSON format suitable for this response. {\"response\": \"Oh, those are fascinating places! Inside, you'll find stunning gardens that match the Baroque style perfectly.\"}\n"
     ]
    }
   ],
   "source": [
    "from transformers import pipeline\n",
    "\n",
    "# Initialize the text generation pipeline\n",
    "generator = pipeline('text-generation', model=model, tokenizer=tokenizer, device=device)\n",
    "\n",
    "# Generate a response\n",
    "output = generator(prompt, **generation_params)\n",
    "response = output[0]['generated_text'][len(prompt):]\n",
    "\n",
    "# Print the response\n",
    "print(response)"
   ]
  },
  {
   "cell_type": "code",
   "execution_count": 13,
   "id": "9957f39f",
   "metadata": {},
   "outputs": [
    {
     "name": "stderr",
     "output_type": "stream",
     "text": [
      "Generating responses: 100%|██████████| 1000/1000 [08:14<00:00,  2.02it/s]\n"
     ]
    }
   ],
   "source": [
    "import time\n",
    "from transformers import pipeline\n",
    "from tqdm import tqdm\n",
    "import pandas as pd\n",
    "\n",
    "# Iterate through the DataFrame and generate responses\n",
    "gen_responses = []\n",
    "response_times = []\n",
    "\n",
    "for index, row in tqdm(df.iterrows(), total=len(df), desc=\"Generating responses\"):\n",
    "    personas = row['personas']\n",
    "    context = row['context']\n",
    "    \n",
    "    # Create the prompt\n",
    "    prompt = create_prompt(personas, context, COT_SETUP)\n",
    "    \n",
    "    # Measure the start time\n",
    "    start_time = time.time()\n",
    "    \n",
    "    # Generate a response\n",
    "    output = generator(prompt, **generation_params)[0]['generated_text']\n",
    "    \n",
    "    # Measure the end time and calculate the duration\n",
    "    end_time = time.time()\n",
    "    response_time = end_time - start_time\n",
    "    \n",
    "    response = output[len(prompt):]\n",
    "\n",
    "    # Store the generated response and response time\n",
    "    gen_responses.append(response)\n",
    "    response_times.append(response_time)\n",
    "\n",
    "# Create a DataFrame with the responses and response times\n",
    "response_df = pd.DataFrame({\n",
    "    'gen_response': gen_responses,\n",
    "    'response_time': response_times\n",
    "})\n",
    "\n",
    "\n",
    "## Save the response DataFrame to a CSV and Excel file\n",
    "response_df.to_csv(f'./Raw Responses/{DATASET}/{LLM}{_COT}.csv', index = False)"
   ]
  },
  {
   "cell_type": "code",
   "execution_count": 14,
   "id": "1d255ecb",
   "metadata": {},
   "outputs": [
    {
     "data": {
      "text/html": [
       "<div>\n",
       "<style scoped>\n",
       "    .dataframe tbody tr th:only-of-type {\n",
       "        vertical-align: middle;\n",
       "    }\n",
       "\n",
       "    .dataframe tbody tr th {\n",
       "        vertical-align: top;\n",
       "    }\n",
       "\n",
       "    .dataframe thead th {\n",
       "        text-align: right;\n",
       "    }\n",
       "</style>\n",
       "<table border=\"1\" class=\"dataframe\">\n",
       "  <thead>\n",
       "    <tr style=\"text-align: right;\">\n",
       "      <th></th>\n",
       "      <th>gen_response</th>\n",
       "      <th>response_time</th>\n",
       "    </tr>\n",
       "  </thead>\n",
       "  <tbody>\n",
       "    <tr>\n",
       "      <th>0</th>\n",
       "      <td>Output for the above request would be:\\n{\\n  \"...</td>\n",
       "      <td>0.226154</td>\n",
       "    </tr>\n",
       "    <tr>\n",
       "      <th>1</th>\n",
       "      <td>Output Format:\\n{\\n  \"response\": \"That's fasci...</td>\n",
       "      <td>0.226543</td>\n",
       "    </tr>\n",
       "    <tr>\n",
       "      <th>2</th>\n",
       "      <td>Output for the above request would be:\\n{\\n  \"...</td>\n",
       "      <td>0.891380</td>\n",
       "    </tr>\n",
       "    <tr>\n",
       "      <th>3</th>\n",
       "      <td>Input Context:\\n{\"user\": \"Where is this place?...</td>\n",
       "      <td>0.739077</td>\n",
       "    </tr>\n",
       "    <tr>\n",
       "      <th>4</th>\n",
       "      <td>Output Format:\\n{\\n  \"response\": \"To'sailors',...</td>\n",
       "      <td>0.743324</td>\n",
       "    </tr>\n",
       "    <tr>\n",
       "      <th>5</th>\n",
       "      <td>Output for the above request would be:\\n{\\n  \"...</td>\n",
       "      <td>0.248841</td>\n",
       "    </tr>\n",
       "    <tr>\n",
       "      <th>6</th>\n",
       "      <td>Output Format:\\n{\\n  \"response\": \"That's great...</td>\n",
       "      <td>0.644945</td>\n",
       "    </tr>\n",
       "    <tr>\n",
       "      <th>7</th>\n",
       "      <td>Output Format:\\n{\\n  \"response\": \"Oh, visiting...</td>\n",
       "      <td>0.889323</td>\n",
       "    </tr>\n",
       "    <tr>\n",
       "      <th>8</th>\n",
       "      <td>Output Format:\\n{\\n  \"response\": \"It's great t...</td>\n",
       "      <td>0.881640</td>\n",
       "    </tr>\n",
       "    <tr>\n",
       "      <th>9</th>\n",
       "      <td>Output for the above request would be:\\n{\\n  \"...</td>\n",
       "      <td>0.529203</td>\n",
       "    </tr>\n",
       "    <tr>\n",
       "      <th>10</th>\n",
       "      <td>Output Format:\\n{\\n  \"response\": \"Ah, visiting...</td>\n",
       "      <td>0.875084</td>\n",
       "    </tr>\n",
       "    <tr>\n",
       "      <th>11</th>\n",
       "      <td>Output for the above request would be:\\n{\\n  \"...</td>\n",
       "      <td>0.702924</td>\n",
       "    </tr>\n",
       "    <tr>\n",
       "      <th>12</th>\n",
       "      <td>Input Context:\\n{\"user\": \"This sounds like fun...</td>\n",
       "      <td>0.413150</td>\n",
       "    </tr>\n",
       "    <tr>\n",
       "      <th>13</th>\n",
       "      <td>Output Format:\\n{\\n  \"response\": \"That's fasci...</td>\n",
       "      <td>0.261839</td>\n",
       "    </tr>\n",
       "    <tr>\n",
       "      <th>14</th>\n",
       "      <td>Output for the above request would be:\\n{\\n  \"...</td>\n",
       "      <td>0.220307</td>\n",
       "    </tr>\n",
       "    <tr>\n",
       "      <th>15</th>\n",
       "      <td>Output for the above request would be:\\n{\\n  \"...</td>\n",
       "      <td>0.310311</td>\n",
       "    </tr>\n",
       "    <tr>\n",
       "      <th>16</th>\n",
       "      <td>Output for the above request would be:\\n{\\n  \"...</td>\n",
       "      <td>0.655031</td>\n",
       "    </tr>\n",
       "    <tr>\n",
       "      <th>17</th>\n",
       "      <td>Input Context:\\n{\"user\": \"I am interested in l...</td>\n",
       "      <td>0.882672</td>\n",
       "    </tr>\n",
       "    <tr>\n",
       "      <th>18</th>\n",
       "      <td>Output for the above request would be:\\n{\\n  \"...</td>\n",
       "      <td>0.286159</td>\n",
       "    </tr>\n",
       "    <tr>\n",
       "      <th>19</th>\n",
       "      <td>Output for the above request would be:\\n{\\n  \"...</td>\n",
       "      <td>0.318349</td>\n",
       "    </tr>\n",
       "  </tbody>\n",
       "</table>\n",
       "</div>"
      ],
      "text/plain": [
       "                                         gen_response  response_time\n",
       "0   Output for the above request would be:\\n{\\n  \"...       0.226154\n",
       "1   Output Format:\\n{\\n  \"response\": \"That's fasci...       0.226543\n",
       "2   Output for the above request would be:\\n{\\n  \"...       0.891380\n",
       "3   Input Context:\\n{\"user\": \"Where is this place?...       0.739077\n",
       "4   Output Format:\\n{\\n  \"response\": \"To'sailors',...       0.743324\n",
       "5   Output for the above request would be:\\n{\\n  \"...       0.248841\n",
       "6   Output Format:\\n{\\n  \"response\": \"That's great...       0.644945\n",
       "7   Output Format:\\n{\\n  \"response\": \"Oh, visiting...       0.889323\n",
       "8   Output Format:\\n{\\n  \"response\": \"It's great t...       0.881640\n",
       "9   Output for the above request would be:\\n{\\n  \"...       0.529203\n",
       "10  Output Format:\\n{\\n  \"response\": \"Ah, visiting...       0.875084\n",
       "11  Output for the above request would be:\\n{\\n  \"...       0.702924\n",
       "12  Input Context:\\n{\"user\": \"This sounds like fun...       0.413150\n",
       "13  Output Format:\\n{\\n  \"response\": \"That's fasci...       0.261839\n",
       "14  Output for the above request would be:\\n{\\n  \"...       0.220307\n",
       "15  Output for the above request would be:\\n{\\n  \"...       0.310311\n",
       "16  Output for the above request would be:\\n{\\n  \"...       0.655031\n",
       "17  Input Context:\\n{\"user\": \"I am interested in l...       0.882672\n",
       "18  Output for the above request would be:\\n{\\n  \"...       0.286159\n",
       "19  Output for the above request would be:\\n{\\n  \"...       0.318349"
      ]
     },
     "execution_count": 14,
     "metadata": {},
     "output_type": "execute_result"
    }
   ],
   "source": [
    "response_df.head(20)"
   ]
  },
  {
   "cell_type": "code",
   "execution_count": null,
   "id": "36e63488",
   "metadata": {},
   "outputs": [],
   "source": []
  }
 ],
 "metadata": {
  "kernelspec": {
   "display_name": ".venv",
   "language": "python",
   "name": "python3"
  },
  "language_info": {
   "codemirror_mode": {
    "name": "ipython",
    "version": 3
   },
   "file_extension": ".py",
   "mimetype": "text/x-python",
   "name": "python",
   "nbconvert_exporter": "python",
   "pygments_lexer": "ipython3",
   "version": "3.10.12"
  }
 },
 "nbformat": 4,
 "nbformat_minor": 5
}
