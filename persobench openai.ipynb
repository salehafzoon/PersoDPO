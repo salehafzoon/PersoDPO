{
 "cells": [
  {
   "cell_type": "markdown",
   "metadata": {},
   "source": [
    "# LLM Loading"
   ]
  },
  {
   "cell_type": "code",
   "execution_count": null,
   "metadata": {},
   "outputs": [],
   "source": [
    "# pip install openai"
   ]
  },
  {
   "cell_type": "markdown",
   "metadata": {},
   "source": [
    "# Benchmarking"
   ]
  },
  {
   "cell_type": "code",
   "execution_count": 1,
   "metadata": {},
   "outputs": [
    {
     "name": "stdout",
     "output_type": "stream",
     "text": [
      "Using device: cuda\n"
     ]
    }
   ],
   "source": [
    "import torch\n",
    "import pandas as pd\n",
    "\n",
    "device = torch.device(\"cuda\" if torch.cuda.is_available() else \"cpu\")\n",
    "print(f\"Using device: {device}\")"
   ]
  },
  {
   "cell_type": "code",
   "execution_count": 2,
   "metadata": {},
   "outputs": [],
   "source": [
    "DATASET = \"FoCus\"\n",
    "SET = \"train\"           #train,   valid       \n",
    "\n",
    "\n",
    "COT_SETUP = False\n",
    "\n",
    "# Determine COT_ value based on COT_SETUP\n",
    "COT_ = \"-COT\" if COT_SETUP else \"\"\n",
    "\n",
    "LLM = \"gpt-4-turbo\"  # gpt-3.5-turbo, gpt-4-turbo, gpt-4o-mini\n",
    "\n",
    "MAX_NEW_TOKEN = 220 if COT_SETUP else 110"
   ]
  },
  {
   "cell_type": "markdown",
   "metadata": {},
   "source": [
    "## Response Generation"
   ]
  },
  {
   "cell_type": "code",
   "execution_count": 3,
   "metadata": {},
   "outputs": [
    {
     "name": "stdout",
     "output_type": "stream",
     "text": [
      "(1500, 3)\n"
     ]
    },
    {
     "data": {
      "text/html": [
       "<div>\n",
       "<style scoped>\n",
       "    .dataframe tbody tr th:only-of-type {\n",
       "        vertical-align: middle;\n",
       "    }\n",
       "\n",
       "    .dataframe tbody tr th {\n",
       "        vertical-align: top;\n",
       "    }\n",
       "\n",
       "    .dataframe thead th {\n",
       "        text-align: right;\n",
       "    }\n",
       "</style>\n",
       "<table border=\"1\" class=\"dataframe\">\n",
       "  <thead>\n",
       "    <tr style=\"text-align: right;\">\n",
       "      <th></th>\n",
       "      <th>personas</th>\n",
       "      <th>context</th>\n",
       "      <th>act_response</th>\n",
       "    </tr>\n",
       "  </thead>\n",
       "  <tbody>\n",
       "    <tr>\n",
       "      <th>0</th>\n",
       "      <td>I want to learn more about the Royal Navy.I ha...</td>\n",
       "      <td>User1: I know this place, but I dont remember ...</td>\n",
       "      <td>User2: The shit was controversial he scrapped ...</td>\n",
       "    </tr>\n",
       "    <tr>\n",
       "      <th>1</th>\n",
       "      <td>I collect lighthouses.Ive never been to to Eng...</td>\n",
       "      <td>User1: Wow, this is amazing! What is this?\\nUs...</td>\n",
       "      <td>User2: Yes! An episode from ChuckleVision and ...</td>\n",
       "    </tr>\n",
       "    <tr>\n",
       "      <th>2</th>\n",
       "      <td>I am interested in region.I would like to visi...</td>\n",
       "      <td>User1: Where is this place?\\nUser2: This is Ac...</td>\n",
       "      <td>User2: Waterways are essential to the commerci...</td>\n",
       "    </tr>\n",
       "  </tbody>\n",
       "</table>\n",
       "</div>"
      ],
      "text/plain": [
       "                                            personas  \\\n",
       "0  I want to learn more about the Royal Navy.I ha...   \n",
       "1  I collect lighthouses.Ive never been to to Eng...   \n",
       "2  I am interested in region.I would like to visi...   \n",
       "\n",
       "                                             context  \\\n",
       "0  User1: I know this place, but I dont remember ...   \n",
       "1  User1: Wow, this is amazing! What is this?\\nUs...   \n",
       "2  User1: Where is this place?\\nUser2: This is Ac...   \n",
       "\n",
       "                                        act_response  \n",
       "0  User2: The shit was controversial he scrapped ...  \n",
       "1  User2: Yes! An episode from ChuckleVision and ...  \n",
       "2  User2: Waterways are essential to the commerci...  "
      ]
     },
     "execution_count": 3,
     "metadata": {},
     "output_type": "execute_result"
    }
   ],
   "source": [
    "torch.cuda.empty_cache()\n",
    "\n",
    "# Loading the prompt\n",
    "df = pd.read_csv(f'./Prompts/{DATASET}-{SET}.csv')\n",
    "\n",
    "print(df.shape)\n",
    "df.head(3)"
   ]
  },
  {
   "cell_type": "code",
   "execution_count": 4,
   "metadata": {},
   "outputs": [],
   "source": [
    "# Function to generate a prompt\n",
    "def create_benchmarking_prompt(personas, context, include_cot=False):\n",
    "\n",
    "    prompt = (\n",
    "        \"I will provide you with a conversation context and the personas of the participants, that can be annotated with speaker information.\\n\"\n",
    "        \"As a participant in this conversation, your task is to generate a personalized response, considering the conversation context and personas.\\n\\n\"\n",
    "        \"Participant Personas:\\n\"\n",
    "        f\"{personas}\\n\\n\"\n",
    "        \"Conversation Context:\\n\"\n",
    "        f\"{context}\\n\\n\"\n",
    "        \"Task Instruction:\\n\"\n",
    "        \"* Provide an unannotated response.\\n\"\n",
    "        \"* If only one persona is available, personalize the response accordingly.\\n\"\n",
    "        \"* If the conversation context is a single query, respond appropriately to the query.\\n\"\n",
    "    )\n",
    "    \n",
    "    if include_cot:\n",
    "        prompt += (\n",
    "            \"* Apply Chain of Thought reasoning to reflect on the alignment of your response with the personas.\\n\"\n",
    "        )\n",
    "\n",
    "    prompt += (\n",
    "        \"\\nOutput Format: only give a JSON of the following format:\\n\"\n",
    "        \"{\\n\"\n",
    "    )\n",
    "    \n",
    "    if include_cot:\n",
    "        prompt += (\n",
    "            '  \"reasoning\": \"briefly describe your personalization process (in {max_word_count} words or less).\"\\n'\n",
    "        )\n",
    "        \n",
    "    prompt += (\n",
    "        '  \"response\": \"provide the personalized natural language response here (in {max_word_count} words or less).\"\\n'\n",
    "        \"}\\n\"\n",
    "    )\n",
    "\n",
    "    return prompt\n"
   ]
  },
  {
   "cell_type": "code",
   "execution_count": 5,
   "metadata": {},
   "outputs": [
    {
     "name": "stdout",
     "output_type": "stream",
     "text": [
      "I will provide you with a conversation context and the personas of the participants, that can be annotated with speaker information.\n",
      "As a participant in this conversation, your task is to generate a personalized response, considering the conversation context and personas.\n",
      "\n",
      "Participant Personas:\n",
      "I am going on a vacation trip to Boston, Massachusetts.I love visiting aquariums.I love whales.I like exhibitions about marine animals.I like to see penguins.\n",
      "\n",
      "Conversation Context:\n",
      "User1: Where is this place?\n",
      "User2: This is the New England Aquarium, a public aquarium located in Boston, Massachusetts. As you told me that you are going on vacation there and that you love visiting aquariums, you should visit this place.\n",
      "User1: Did you say something about a whale-related program outside the park.. What is it about?\n",
      "User2: The aquarium has a whale watching cruise program; on the tour, observers interact with naturalists and educators at a location 30 miles east of Boston called the Stellwagen Bank National Marine Sanctuary, where it is usually possible to spot a wide range of whales; for example: humpback whales, finback whales, minke whales, pilot whales, and endangered right whales; the tour lasts 3 to 4 hours and if no whale is seen, you get a voucher to return for another trip.\n",
      "User1: This is just wonderful! Tell me about other programs offered by the park.\n",
      "User2: As I know that you are very fond of exhibitions about marine animals, I have more good news. The \"Marine Mammals in Motion\" program will highlight the athletic ability of seals in the north of the Aquarium and port seals in the Atlantic, encouraging children to be active with stretching, as well as seals, stretching in dances and jumps, something very fun for children; in addition, the Marine Mammals Center also creates several connections between marine mammals and humans and creates awareness of the challenges that marine mammals face in our oceans today, due to the presence of man.\n",
      "User1: Can you tell me if the park has any attraction with penguins?\n",
      "\n",
      "Task Instruction:\n",
      "* Provide an unannotated response.\n",
      "* If only one persona is available, personalize the response accordingly.\n",
      "* If the conversation context is a single query, respond appropriately to the query.\n",
      "* Apply Chain of Thought reasoning to reflect on the alignment of your response with the personas.\n",
      "\n",
      "Output Format: only give a JSON of the following format:\n",
      "{\n",
      "  \"reasoning\": \"briefly describe your personalization process (in {max_word_count} words or less).\"\n",
      "  \"response\": \"provide the personalized natural language response here (in {max_word_count} words or less).\"\n",
      "}\n",
      "\n"
     ]
    }
   ],
   "source": [
    "first_row = df.iloc[20]\n",
    "personas = first_row['personas']\n",
    "context = first_row['context']\n",
    "\n",
    "# Example usage\n",
    "prompt = create_benchmarking_prompt(personas, context, include_cot=True)\n",
    "print(prompt)"
   ]
  },
  {
   "cell_type": "code",
   "execution_count": 6,
   "metadata": {},
   "outputs": [
    {
     "data": {
      "text/plain": [
       "True"
      ]
     },
     "execution_count": 6,
     "metadata": {},
     "output_type": "execute_result"
    }
   ],
   "source": [
    "from dotenv import load_dotenv\n",
    "\n",
    "load_dotenv()                   # Loading API key from .env file"
   ]
  },
  {
   "cell_type": "code",
   "execution_count": 7,
   "metadata": {},
   "outputs": [
    {
     "data": {
      "text/plain": [
       "'{\\n  \"reasoning\": \"Considering the user\\'s interest in penguins, the response highlights the penguin exhibit at the New England Aquarium, aligning with their preferences.\",\\n  \"response\": \"Yes, the New England Aquarium has a wonderful penguin exhibit! You\\'ll be able to see different species of penguins, including the playful African penguins and the majestic rockhopper penguins. It\\'s a delightful experience for anyone who enjoys watching these charming birds.\"\\n}'"
      ]
     },
     "execution_count": 7,
     "metadata": {},
     "output_type": "execute_result"
    }
   ],
   "source": [
    "import openai\n",
    "import os\n",
    "\n",
    "openai.api_key = os.getenv(\"OPENAI_API_KEY\")\n",
    "\n",
    "client = openai.OpenAI()\n",
    "\n",
    "# Generate a response from the model using the updated API\n",
    "chat_completion = client.chat.completions.create(\n",
    "    model= LLM, \n",
    "    messages=[\n",
    "        # https://platform.openai.com/docs/guides/json-mode\n",
    "        {\"role\": \"system\", \"content\": \"You are a helpful response generator to output JSON.\"},\n",
    "        {\"role\": \"user\", \"content\": prompt}\n",
    "    ],\n",
    "    temperature = 0,      # Based on FELM paper (Greedy Setup)\n",
    "    max_tokens = MAX_NEW_TOKEN      # Based on max response length + reasoning\n",
    ")\n",
    "\n",
    "## Retrieve and return the response text\n",
    "response_text = chat_completion.choices[0].message.content\n",
    "response_text"
   ]
  },
  {
   "cell_type": "code",
   "execution_count": 8,
   "metadata": {},
   "outputs": [
    {
     "name": "stderr",
     "output_type": "stream",
     "text": [
      "Generating responses:   7%|▋         | 111/1500 [04:48<1:00:11,  2.60s/it]"
     ]
    },
    {
     "name": "stdout",
     "output_type": "stream",
     "text": [
      "Failed to parse JSON for response at index 110:\n",
      "{\n",
      "  \"response\": \"Certainly! Valpolicella is not only renowned for its rich winemaking history but also for its beautiful landscapes and cultural heritage. The area is dotted with charming villages and historic estates where you can explore ancient cellars and taste some of the finest wines, including the famous Amarone. The proximity to Lake Garda offers a scenic backdrop and opportunities for leisurely activities like boating and hiking. Visiting Valpolicella will give you a wonderful blend of natural beauty, history, and exquisite wines, making your\n",
      "Error: Unterminated string starting at: line 2 column 15 (char 16)\n",
      "\n"
     ]
    },
    {
     "name": "stderr",
     "output_type": "stream",
     "text": [
      "Generating responses:  25%|██▌       | 376/1500 [17:47<1:20:38,  4.30s/it]"
     ]
    },
    {
     "name": "stdout",
     "output_type": "stream",
     "text": [
      "Failed to parse JSON for response at index 375:\n",
      "{\n",
      "  \"response\": \"Absolutely! The Strawberry Line Trail is a delightful path that follows part of the old railway line. It's perfect for walking and enjoying nature, stretching about 10 miles from Yatton to Cheddar. You'll love the scenic views and the lush greenery, making it a great spot for nature lovers like yourself. Don't forget your insect repellent, though, as the trail can be quite wooded in places. After your walk, you can refresh yourself with some fresh water, just like you enjoy after a mountain\n",
      "Error: Unterminated string starting at: line 2 column 15 (char 16)\n",
      "\n"
     ]
    },
    {
     "name": "stderr",
     "output_type": "stream",
     "text": [
      "Generating responses:  32%|███▏      | 481/1500 [23:20<1:01:17,  3.61s/it]"
     ]
    },
    {
     "name": "stdout",
     "output_type": "stream",
     "text": [
      "Failed to parse JSON for response at index 480:\n",
      "{\n",
      "  \"response\": \"Absolutely! Bryce Canyon National Park is renowned for its stunning red rock formations and expansive vistas. The park offers numerous hiking trails that vary in difficulty, providing opportunities for both casual walks and more challenging hikes. The natural amphitheaters and hoodoos create a breathtaking landscape that changes beautifully with the sunlight, making it a photographer's paradise. Additionally, the park's high elevation results in cooler temperatures, which can be a pleasant escape during the hot summer months. It's a place where you can truly appreciate the beauty and diversity\n",
      "Error: Unterminated string starting at: line 2 column 15 (char 16)\n",
      "\n"
     ]
    },
    {
     "name": "stderr",
     "output_type": "stream",
     "text": [
      "Generating responses:  37%|███▋      | 550/1500 [26:39<54:36,  3.45s/it]  "
     ]
    },
    {
     "name": "stdout",
     "output_type": "stream",
     "text": [
      "Failed to parse JSON for response at index 549:\n",
      "{\n",
      "  \"response\": \"Certainly! Rottnest Island, or Wadjemup, is not only a beautiful destination with its clear waters and scenic views but also rich in history and culture. It's a car-free zone, which makes it a peaceful retreat from the bustling city life. You can explore the island by bike, which is a popular way to see the sights. The island also offers a chance to see the adorable quokkas, small marsupials that are native to the island. With your interests in swimming and the No\n",
      "Error: Unterminated string starting at: line 2 column 15 (char 16)\n",
      "\n"
     ]
    },
    {
     "name": "stderr",
     "output_type": "stream",
     "text": [
      "Generating responses:  45%|████▍     | 674/1500 [32:35<54:40,  3.97s/it]  "
     ]
    },
    {
     "name": "stdout",
     "output_type": "stream",
     "text": [
      "Failed to parse JSON for response at index 673:\n",
      "{\n",
      "  \"response\": \"Yes, one remarkable aspect of the Mosque of Sultan al-Muayyad is its location. It was built over the ruins of a prison, next to the famous Bab Zuweila gate, which is one of the gates in the old city walls of Cairo. The mosque's minarets offer a panoramic view of the city, which is quite unique. Additionally, the mosque is noted for its intricate Mamluk architecture, featuring beautiful domes and minarets that reflect the construction styles of the 15\n",
      "Error: Unterminated string starting at: line 2 column 15 (char 16)\n",
      "\n"
     ]
    },
    {
     "name": "stderr",
     "output_type": "stream",
     "text": [
      "Generating responses:  65%|██████▍   | 969/1500 [44:57<25:30,  2.88s/it]  "
     ]
    },
    {
     "name": "stdout",
     "output_type": "stream",
     "text": [
      "Failed to parse JSON for response at index 968:\n",
      "{\n",
      "  \"response\": \"Another interesting fact about the Memorial to the Murdered Jews of Europe is that it consists of 2,711 concrete slabs arranged in a grid pattern on a sloping field, which aims to create a confusing and uneasy atmosphere as you walk through it, reflecting the disorienting and isolating effects of the Holocaust. Additionally, the architect, Peter Eisenman, intended for the design to be abstract to allow visitors to interpret it in their own ways, which ties into the broader goal of encouraging reflection and remembrance.\"\n",
      "\n",
      "Error: Expecting ',' delimiter: line 3 column 1 (char 544)\n",
      "\n"
     ]
    },
    {
     "name": "stderr",
     "output_type": "stream",
     "text": [
      "Generating responses:  68%|██████▊   | 1021/1500 [46:54<19:27,  2.44s/it]"
     ]
    },
    {
     "name": "stdout",
     "output_type": "stream",
     "text": [
      "Failed to parse JSON for response at index 1020:\n",
      "{\n",
      "  \"response\": \"To reach the Sarala Temple, you can use various means of transport depending on where you're starting from in India. If you're flying in, the nearest airport is Bhubaneswar Airport. From there, you can hire a taxi or take a bus to Jagatsinghpur, and then local transport to the temple. It's an excellent way to immerse yourself in the local culture and observe the daily life of the people, which aligns well with your interest in getting to know the local culture in\n",
      "Error: Unterminated string starting at: line 2 column 15 (char 16)\n",
      "\n"
     ]
    },
    {
     "name": "stderr",
     "output_type": "stream",
     "text": [
      "Generating responses:  81%|████████  | 1213/1500 [55:17<12:26,  2.60s/it]"
     ]
    },
    {
     "name": "stdout",
     "output_type": "stream",
     "text": [
      "Failed to parse JSON for response at index 1212:\n",
      "{\n",
      "  \"response\": \"The Jesus Boat, also known as the Ancient Galilee Boat, is an ancient fishing boat from the 1st century AD, discovered in 1986 on the northwest shore of the Sea of Galilee. It's believed to be the type of boat that Jesus and his disciples might have used. The boat is now preserved and displayed at the Yigal Allon Museum in Kibbutz Ginosar, and it offers a fascinating glimpse into the maritime life of the time. Visiting it could be a\n",
      "Error: Unterminated string starting at: line 2 column 15 (char 16)\n",
      "\n"
     ]
    },
    {
     "name": "stderr",
     "output_type": "stream",
     "text": [
      "Generating responses:  88%|████████▊ | 1324/1500 [1:00:27<12:18,  4.20s/it]"
     ]
    },
    {
     "name": "stdout",
     "output_type": "stream",
     "text": [
      "Failed to parse JSON for response at index 1323:\n",
      "{\n",
      "  \"response\": \"Certainly! Pulau Ubin is a treasure trove of natural beauty and history. It's a great place for nature enthusiasts like yourself to explore. The island's rustic charm is preserved through its traditional kampongs and untouched forests. Besides its rich biodiversity, Ubin is also culturally significant, with historical sites like the restored Tudor-style House No. 1 and the Chek Jawa wetlands, which are a hotspot for biodiversity. It's a perfect spot for someone interested in both the natural environment and the\n",
      "Error: Unterminated string starting at: line 2 column 15 (char 16)\n",
      "\n"
     ]
    },
    {
     "name": "stderr",
     "output_type": "stream",
     "text": [
      "Generating responses:  93%|█████████▎| 1395/1500 [1:04:22<05:23,  3.08s/it]"
     ]
    },
    {
     "name": "stdout",
     "output_type": "stream",
     "text": [
      "Failed to parse JSON for response at index 1394:\n",
      "{\n",
      "  \"response\": \"The architecture of Angkor Wat is a stunning example of classical Khmer architecture, known for its grand scale and intricate detail. The temple's design reflects the traditional Khmer idea of the temple mountain, where the central tower symbolizes Mount Meru, the center of the universe in Hindu and Buddhist cosmology. The five towers are arranged in a quincunx pattern, which is a distinctive feature. The bas-reliefs and carvings throughout the temple complex depict various mythological scenes and figures, adding to its\n",
      "Error: Unterminated string starting at: line 2 column 15 (char 16)\n",
      "\n"
     ]
    },
    {
     "name": "stderr",
     "output_type": "stream",
     "text": [
      "Generating responses: 100%|██████████| 1500/1500 [1:09:40<00:00,  2.79s/it]\n"
     ]
    }
   ],
   "source": [
    "import openai\n",
    "import time\n",
    "import os\n",
    "import json\n",
    "import pandas as pd\n",
    "from tqdm import tqdm\n",
    "\n",
    "# Initialize OpenAI client once\n",
    "client = openai.OpenAI()\n",
    "\n",
    "# Result containers\n",
    "gen_responses = []\n",
    "reasoning_responses = []\n",
    "response_times = []\n",
    "\n",
    "# Ensure debugging log directory exists\n",
    "log_dir = \"./debugging logs\"\n",
    "os.makedirs(log_dir, exist_ok=True)\n",
    "\n",
    "# Prepare the log file path\n",
    "log_file_path = os.path.join(log_dir, f'{DATASET}_{LLM}_{COT_}.txt')\n",
    "\n",
    "# Open the log file for writing\n",
    "with open(log_file_path, 'w') as log_file:\n",
    "\n",
    "    for index, row in tqdm(df.iterrows(), total=len(df), desc=\"Generating responses\"):\n",
    "        personas = row['personas']\n",
    "        context = row['context']\n",
    "\n",
    "        prompt = create_benchmarking_prompt(personas, context, COT_SETUP)\n",
    "\n",
    "        # Measure the start time\n",
    "        start_time = time.time()\n",
    "\n",
    "        try:\n",
    "            # Generate a response from the model\n",
    "            chat_completion = client.chat.completions.create(\n",
    "                model=LLM,\n",
    "                messages=[\n",
    "                    {\"role\": \"system\", \"content\": \"You are a helpful response generator to output JSON.\"},\n",
    "                    {\"role\": \"user\", \"content\": prompt}\n",
    "                ],\n",
    "                temperature=0,\n",
    "                max_tokens=MAX_NEW_TOKEN\n",
    "            )\n",
    "            end_time = time.time()\n",
    "            response_time = end_time - start_time\n",
    "\n",
    "            # Retrieve raw response text\n",
    "            response_text = chat_completion.choices[0].message.content\n",
    "            gen_responses.append(response_text)\n",
    "\n",
    "            # Try parsing just to extract reasoning (optional)\n",
    "            try:\n",
    "                response_data = json.loads(response_text)\n",
    "                if COT_SETUP:\n",
    "                    reasoning_responses.append(response_data.get('reasoning', ''))\n",
    "                else:\n",
    "                    reasoning_responses.append('')\n",
    "            except json.JSONDecodeError as e:\n",
    "                error_message = (f\"Failed to parse JSON for response at index {index}:\\n\"\n",
    "                                 f\"{response_text}\\n\"\n",
    "                                 f\"Error: {str(e)}\\n\")\n",
    "                print(error_message)\n",
    "                log_file.write(error_message + \"\\n\")\n",
    "                reasoning_responses.append(None if COT_SETUP else '')\n",
    "\n",
    "            response_times.append(response_time)\n",
    "\n",
    "        except Exception as e:\n",
    "            error_message = f\"OpenAI API error at index {index}: {str(e)}\\n\"\n",
    "            print(error_message)\n",
    "            log_file.write(error_message + \"\\n\")\n",
    "            gen_responses.append(None)\n",
    "            reasoning_responses.append(None if COT_SETUP else '')\n",
    "            response_times.append(None)\n",
    "\n",
    "# Create the response DataFrame\n",
    "if COT_SETUP:\n",
    "    response_df = pd.DataFrame({\n",
    "        'gen_response': gen_responses,\n",
    "        'reasoning': reasoning_responses,\n",
    "        'response_time': response_times\n",
    "    })\n",
    "else:\n",
    "    response_df = pd.DataFrame({\n",
    "        'gen_response': gen_responses,\n",
    "        'response_time': response_times\n",
    "    })\n"
   ]
  },
  {
   "cell_type": "code",
   "execution_count": 9,
   "metadata": {},
   "outputs": [
    {
     "name": "stdout",
     "output_type": "stream",
     "text": [
      "\n",
      "Missing Values:\n",
      " gen_response     0\n",
      "response_time    0\n",
      "dtype: int64\n"
     ]
    }
   ],
   "source": [
    "print(\"\\nMissing Values:\\n\", response_df.isnull().sum())"
   ]
  },
  {
   "cell_type": "code",
   "execution_count": 11,
   "metadata": {},
   "outputs": [],
   "source": [
    "## Save the response DataFrame to a CSV and Excel file\n",
    "response_df.to_csv(f'./Raw Responses/{DATASET}/{LLM}-train{COT_}.csv', index = False)"
   ]
  },
  {
   "cell_type": "markdown",
   "metadata": {},
   "source": [
    "# Post Processing"
   ]
  },
  {
   "cell_type": "code",
   "execution_count": null,
   "metadata": {},
   "outputs": [
    {
     "data": {
      "text/plain": [
       "'Failed to parse JSON for response at index 74: {\\n  \"response\": \"Malappuram has a diverse demographic profile. The population primarily consists of Malayalis, with a significant presence of various religious communities, including Hindus, Muslims, and Christians. The literacy rate is quite high, reflecting the emphasis on education in the region. The city is known for its rich cultural heritage, influenced by its historical significance and the coexistence of different communities. This diversity adds to the unique character of Malappuram, making it an interesting place to explore, especially for someone like you who enjoys researching historic figures\\nError: Unterminated string starting at: line 2 column 15 (char 16)\\n\\nFailed to parse JSON for response at index 95: {\\n  \"response\": \"Fort Corcoran played a significant role during the Civil War, serving as a strategic point for the Union Army. It was part of a series of fortifications built to protect Washington D.C. from Confederate attacks. The fort was named in honor of Colonel Michael Corcoran, who was known for his leadership of the 69th New York Infantry. You might also find it interesting that the fort was involved in various skirmishes and was a key location for troop movements. Visiting it this spring could provide you with\\nError: Unterminated string starting at: line 2 column 15 (char 16)\\n\\nFailed to parse JSON for response at index 462: {\\n  \"response\": \"In addition to the stunning biodiversity and the chance to spot a cheetah, the Banni Grasslands Reserve is also known for its unique cultural experiences. You can explore the local villages, where you can engage with the community and learn about their traditional crafts. The Kutchi cuisine is a must-try, with its rich flavors and unique dishes. Plus, if you\\'re interested in unexplained phenomena, the mysterious lights that appear on dark nights add an intriguing layer to your visit. It\\'s a place where nature and culture beautifully\\nError: Unterminated string starting at: line 2 column 15 (char 16)\\n\\nFailed to parse JSON for response at index 480: {\\n  \"response\": \"Bryce Canyon National Park is truly a remarkable place! The park is famous for its stunning hoodoos, which are tall, thin spires of rock that have been shaped by erosion. The vibrant colors of the rock formations, especially at sunrise and sunset, create breathtaking views. Additionally, the park offers various hiking trails that allow you to explore its unique geological features up close. If you\\'re interested in learning more about the geological processes that formed these structures, the visitor center often has informative exhibits. It\\'s definitely a must-\\nError: Unterminated string starting at: line 2 column 15 (char 16)\\n\\nFailed to parse JSON for response at index 600: {\\n  \"response\": \"One of the most notable landmarks in Philadelphia\\'s Chinatown is the Friendship Gate, which I mentioned earlier. It\\'s not just a beautiful piece of traditional Chinese architecture, but it also represents the cultural ties between Philadelphia and Tianjin, China. The gate is adorned with intricate designs and vibrant colors, making it a perfect spot for photos. Additionally, you might want to explore the nearby Chinese Cultural and Community Center, which hosts various events and showcases Chinese art and culture. It\\'s a great way to immerse yourself in the community while you\\'re there\\nError: Unterminated string starting at: line 2 column 15 (char 16)\\n\\nFailed to parse JSON for response at index 722: {\\n  \"response\": \"The rituals at the Yogini temples were deeply intertwined with the practices of tantra and involved various offerings and ceremonies aimed at invoking the presence of the yoginis. Devotees would often engage in meditation, chanting, and the use of symbolic items like skulls and flowers to connect with the divine feminine energy. These rituals were not just about worship but also about experiencing transformation and enlightenment, allowing practitioners to transcend the ordinary and tap into the mystical aspects of existence. Visiting these temples, you might witness remnants of these ancient practices,\\nError: Unterminated string starting at: line 2 column 15 (char 16)\\n\\nFailed to parse JSON for response at index 854: {\\n  \"response\": \"The Speyer Cathedral is not only a remarkable example of Romanesque architecture but also holds the title of the largest Romanesque church in the world. It\\'s a UNESCO World Heritage Site, which makes it even more special for your visit. Additionally, the cathedral has a fascinating history, including being the burial site of several Holy Roman Emperors. You might also enjoy exploring its crypt, which is one of the oldest parts of the structure. It\\'s a place rich in history and spirituality, perfect for someone with your interests\\nError: Unterminated string starting at: line 2 column 15 (char 16)\\n\\nFailed to parse JSON for response at index 1031: {\\n  \"response\": \"Lepenski Vir was discovered in the 1960s by a team of archaeologists led by Dr. Radivoje Pešić. They found remarkable sculptures and artifacts that provide insight into the Mesolithic culture. The site is significant not only for its age but also for its unique architecture and art, which reflect the early human settlement in the region. It\\'s fascinating how this ancient site connects to the Danube River, which has been a vital waterway for centuries, making it a great spot for both history enthusiasts\\nError: Unterminated string starting at: line 2 column 15 (char 16)\\n\\nFailed to parse JSON for response at index 1105: {\\n  \"response\": \"Sure! The Castillo de San Marcos is the oldest masonry fort in the continental United States. It was built to protect the Spanish colonial port of St. Augustine from pirates and other enemies. The coquina stone used in its construction is unique because it absorbs cannon fire, making it quite resilient. Additionally, the fort has a rich history, having served various roles over the centuries, including as a military prison. It\\'s fascinating to think about the Seminole people and their interactions with the fort during their resistance against U.S. expansion\\nError: Unterminated string starting at: line 2 column 15 (char 16)\\n\\nFailed to parse JSON for response at index 1120: {\\n  \"response\": \"Tulum is not only known for its stunning coastal views but also for its unique architecture, featuring a mix of Mayan and post-Columbian styles. The Temple of the Frescoes, which has beautiful murals depicting Mayan deities, is a must-see. Additionally, Tulum\\'s beaches are some of the most beautiful in the world, making it a perfect spot for tourists. Did you know that Tulum was also a major trading hub for the Mayans? It\\'s fascinating how this site has evolved into a vibrant\\nError: Unterminated string starting at: line 2 column 15 (char 16)\\n\\nFailed to parse JSON for response at index 1276: {\\n  \"response\": \"The Flamingo Las Vegas is not just a casino hotel; it\\'s a vibrant oasis on the Strip! Besides the beautiful garden courtyard and flamingo sanctuary, it features a stunning pool area, live entertainment, and a variety of dining options. The Art Deco influence is evident throughout the property, making it a visual delight. Plus, the history of the hotel adds to its charm, as it was one of the first luxury hotels in Las Vegas. If you love the Art Deco style, you\\'ll appreciate the details in the architecture and\\nError: Unterminated string starting at: line 2 column 15 (char 16)\\n\\nFailed to parse JSON for response at index 1323: {\\n  \"response\": \"Pulau Ubin is a fascinating place with its rich biodiversity and cultural heritage. It\\'s a haven for nature lovers, featuring mangroves, wetlands, and a variety of wildlife. The island\\'s unique ecosystem supports many species of birds, making it a great spot for birdwatching, especially since it\\'s part of the Important Bird Area designated by BirdLife International. Additionally, the National Parks Board manages conservation efforts to preserve its natural beauty and promote sustainable tourism. If you\\'re interested, I can share more about the specific flora and\\nError: Unterminated string starting at: line 2 column 15 (char 16)\\n\\nFailed to parse JSON for response at index 1394: {\\n  \"response\": \"The architecture of Angkor Wat is a stunning example of classical Khmer architecture, characterized by its grand scale and intricate details. It features a rectangular layout with a central tower symbolizing Mount Meru, surrounded by four smaller towers representing the mountain\\'s surrounding mountain ranges. The temple is adorned with extensive bas-reliefs and carvings depicting Hindu mythology, particularly scenes from the Ramayana and Mahabharata. The use of sandstone and laterite in its construction adds to its beauty and durability, making it a remarkable site for anyone who\\nError: Unterminated string starting at: line 2 column 15 (char 16)\\n\\nFailed to parse JSON for response at index 1396: {\\n  \"response\": \"Carrington Moss is not only significant for its size but also for its rich biodiversity. It\\'s home to various plant species, including sphagnum moss, and provides habitat for many birds and other wildlife. The area plays a crucial role in carbon storage, which is vital for combating climate change. Given your interest in history, you might also find it fascinating to learn about how peat bogs have been used historically and their importance in the local ecosystem. Visiting could give you a deeper appreciation of both ecology and the historical context of\\nError: Unterminated string starting at: line 2 column 15 (char 16)\\n\\n'"
      ]
     },
     "execution_count": 3,
     "metadata": {},
     "output_type": "execute_result"
    }
   ],
   "source": [
    "# import re\n",
    "# import os\n",
    "# import pandas as pd\n",
    "\n",
    "# # Construct the path to your log file\n",
    "# log_file_path = os.path.join('./debugging logs', f'{DATASET}_{LLM}_{COT_}.txt')\n",
    "\n",
    "# # Read the log file\n",
    "# with open(log_file_path, 'r') as f:\n",
    "#     log_content = f.read()\n",
    "    \n",
    "# log_content"
   ]
  },
  {
   "cell_type": "code",
   "execution_count": null,
   "metadata": {},
   "outputs": [
    {
     "name": "stdout",
     "output_type": "stream",
     "text": [
      "(14, 2)\n"
     ]
    },
    {
     "data": {
      "text/html": [
       "<div>\n",
       "<style scoped>\n",
       "    .dataframe tbody tr th:only-of-type {\n",
       "        vertical-align: middle;\n",
       "    }\n",
       "\n",
       "    .dataframe tbody tr th {\n",
       "        vertical-align: top;\n",
       "    }\n",
       "\n",
       "    .dataframe thead th {\n",
       "        text-align: right;\n",
       "    }\n",
       "</style>\n",
       "<table border=\"1\" class=\"dataframe\">\n",
       "  <thead>\n",
       "    <tr style=\"text-align: right;\">\n",
       "      <th></th>\n",
       "      <th>index</th>\n",
       "      <th>gen_response</th>\n",
       "    </tr>\n",
       "  </thead>\n",
       "  <tbody>\n",
       "    <tr>\n",
       "      <th>0</th>\n",
       "      <td>74</td>\n",
       "      <td>\"response\": \"Malappuram has a diverse demograp...</td>\n",
       "    </tr>\n",
       "    <tr>\n",
       "      <th>1</th>\n",
       "      <td>95</td>\n",
       "      <td>\"response\": \"Fort Corcoran played a significan...</td>\n",
       "    </tr>\n",
       "    <tr>\n",
       "      <th>2</th>\n",
       "      <td>462</td>\n",
       "      <td>\"response\": \"In addition to the stunning biodi...</td>\n",
       "    </tr>\n",
       "    <tr>\n",
       "      <th>3</th>\n",
       "      <td>480</td>\n",
       "      <td>\"response\": \"Bryce Canyon National Park is tru...</td>\n",
       "    </tr>\n",
       "    <tr>\n",
       "      <th>4</th>\n",
       "      <td>600</td>\n",
       "      <td>\"response\": \"One of the most notable landmarks...</td>\n",
       "    </tr>\n",
       "  </tbody>\n",
       "</table>\n",
       "</div>"
      ],
      "text/plain": [
       "   index                                       gen_response\n",
       "0     74  \"response\": \"Malappuram has a diverse demograp...\n",
       "1     95  \"response\": \"Fort Corcoran played a significan...\n",
       "2    462  \"response\": \"In addition to the stunning biodi...\n",
       "3    480  \"response\": \"Bryce Canyon National Park is tru...\n",
       "4    600  \"response\": \"One of the most notable landmarks..."
      ]
     },
     "execution_count": 4,
     "metadata": {},
     "output_type": "execute_result"
    }
   ],
   "source": [
    "# # Updated pattern based on your actual file content\n",
    "# pattern = r\"Failed to parse JSON for response at index (\\d+):\\s*\\{(.*?)\\nError:\"\n",
    "\n",
    "# # Find all matches\n",
    "# matches = re.findall(pattern, log_content, re.DOTALL)\n",
    "\n",
    "# # Create DataFrame\n",
    "# recovered_df = pd.DataFrame([\n",
    "#     {\"index\": int(index), \"gen_response\": response.strip()}\n",
    "#     for index, response in matches\n",
    "# ])\n",
    "\n",
    "# # Sort and preview\n",
    "# recovered_df.sort_values(\"index\", inplace=True)\n",
    "# recovered_df.reset_index(drop=True, inplace=True)\n",
    "\n",
    "# print(recovered_df.shape)\n",
    "# recovered_df.head()"
   ]
  },
  {
   "cell_type": "code",
   "execution_count": 5,
   "metadata": {},
   "outputs": [
    {
     "name": "stdout",
     "output_type": "stream",
     "text": [
      "\n",
      "Missing Values:\n",
      " gen_response     14\n",
      "response_time     0\n",
      "dtype: int64\n"
     ]
    }
   ],
   "source": [
    "import pandas as pd\n",
    "\n",
    "response_df = pd.read_csv(f'Raw Responses/{DATASET}/{LLM}-train{COT_}.csv')\n",
    "\n",
    "print(\"\\nMissing Values:\\n\", response_df.isnull().sum())"
   ]
  },
  {
   "cell_type": "code",
   "execution_count": null,
   "metadata": {},
   "outputs": [],
   "source": [
    "# # Ensure index column is the same type\n",
    "# recovered_df['index'] = recovered_df['index'].astype(int)\n",
    "\n",
    "# # Iterate through recovered responses and update response_df\n",
    "# for _, row in recovered_df.iterrows():\n",
    "#     idx = row['index']\n",
    "#     new_response = row['gen_response']\n",
    "    \n",
    "#     # Only update if response is missing or empty\n",
    "#     if idx < len(response_df):\n",
    "#         current_response = response_df.loc[idx, 'gen_response']\n",
    "#         if pd.isna(current_response) or current_response == '':\n",
    "#             response_df.loc[idx, 'gen_response'] = new_response\n"
   ]
  },
  {
   "cell_type": "code",
   "execution_count": 7,
   "metadata": {},
   "outputs": [
    {
     "name": "stdout",
     "output_type": "stream",
     "text": [
      "Shape: (1500, 2)\n",
      "\n",
      "Missing Values:\n",
      " gen_response     0\n",
      "response_time    0\n",
      "dtype: int64\n"
     ]
    }
   ],
   "source": [
    "ds = response_df\n",
    "print(\"Shape:\", ds.shape)\n",
    "\n",
    "print(\"\\nMissing Values:\\n\", ds.isnull().sum())"
   ]
  },
  {
   "cell_type": "code",
   "execution_count": 8,
   "metadata": {},
   "outputs": [
    {
     "name": "stdout",
     "output_type": "stream",
     "text": [
      "\n",
      "Missing Values:\n",
      " gen_response     1500\n",
      "response_time       0\n",
      "dtype: int64\n",
      "(1500, 2)\n"
     ]
    },
    {
     "data": {
      "text/html": [
       "<div>\n",
       "<style scoped>\n",
       "    .dataframe tbody tr th:only-of-type {\n",
       "        vertical-align: middle;\n",
       "    }\n",
       "\n",
       "    .dataframe tbody tr th {\n",
       "        vertical-align: top;\n",
       "    }\n",
       "\n",
       "    .dataframe thead th {\n",
       "        text-align: right;\n",
       "    }\n",
       "</style>\n",
       "<table border=\"1\" class=\"dataframe\">\n",
       "  <thead>\n",
       "    <tr style=\"text-align: right;\">\n",
       "      <th></th>\n",
       "      <th>gen_response</th>\n",
       "      <th>response_time</th>\n",
       "    </tr>\n",
       "  </thead>\n",
       "  <tbody>\n",
       "    <tr>\n",
       "      <th>0</th>\n",
       "      <td>None</td>\n",
       "      <td>1.257862</td>\n",
       "    </tr>\n",
       "    <tr>\n",
       "      <th>1</th>\n",
       "      <td>None</td>\n",
       "      <td>1.235367</td>\n",
       "    </tr>\n",
       "    <tr>\n",
       "      <th>2</th>\n",
       "      <td>None</td>\n",
       "      <td>1.664207</td>\n",
       "    </tr>\n",
       "    <tr>\n",
       "      <th>3</th>\n",
       "      <td>None</td>\n",
       "      <td>1.642170</td>\n",
       "    </tr>\n",
       "    <tr>\n",
       "      <th>4</th>\n",
       "      <td>None</td>\n",
       "      <td>2.650969</td>\n",
       "    </tr>\n",
       "    <tr>\n",
       "      <th>...</th>\n",
       "      <td>...</td>\n",
       "      <td>...</td>\n",
       "    </tr>\n",
       "    <tr>\n",
       "      <th>1495</th>\n",
       "      <td>None</td>\n",
       "      <td>1.039717</td>\n",
       "    </tr>\n",
       "    <tr>\n",
       "      <th>1496</th>\n",
       "      <td>None</td>\n",
       "      <td>1.548410</td>\n",
       "    </tr>\n",
       "    <tr>\n",
       "      <th>1497</th>\n",
       "      <td>None</td>\n",
       "      <td>1.639071</td>\n",
       "    </tr>\n",
       "    <tr>\n",
       "      <th>1498</th>\n",
       "      <td>None</td>\n",
       "      <td>1.485940</td>\n",
       "    </tr>\n",
       "    <tr>\n",
       "      <th>1499</th>\n",
       "      <td>None</td>\n",
       "      <td>1.454648</td>\n",
       "    </tr>\n",
       "  </tbody>\n",
       "</table>\n",
       "<p>1500 rows × 2 columns</p>\n",
       "</div>"
      ],
      "text/plain": [
       "     gen_response  response_time\n",
       "0            None       1.257862\n",
       "1            None       1.235367\n",
       "2            None       1.664207\n",
       "3            None       1.642170\n",
       "4            None       2.650969\n",
       "...           ...            ...\n",
       "1495         None       1.039717\n",
       "1496         None       1.548410\n",
       "1497         None       1.639071\n",
       "1498         None       1.485940\n",
       "1499         None       1.454648\n",
       "\n",
       "[1500 rows x 2 columns]"
      ]
     },
     "execution_count": 8,
     "metadata": {},
     "output_type": "execute_result"
    }
   ],
   "source": [
    "import re\n",
    "import json\n",
    "import pandas as pd\n",
    "\n",
    "# Define functions\n",
    "def find_first_valid_json(text):\n",
    "    if not isinstance(text, str) or text.strip() == \"\":\n",
    "        return None  # skip if not a string or empty string\n",
    "    \n",
    "    json_objects = re.findall(r'\\{.*?\\}', text, re.DOTALL)\n",
    "    for obj in json_objects:\n",
    "        try:\n",
    "            json_obj = json.loads(obj)\n",
    "            if \"response\" in json_obj:  # Only check for \"response\"\n",
    "                return json_obj\n",
    "        except json.JSONDecodeError:\n",
    "            continue\n",
    "    return None\n",
    "\n",
    "def get_response(text):\n",
    "    if text is not None:  # Check if text is not None\n",
    "        try:\n",
    "            return text['response']\n",
    "        except (ValueError, SyntaxError, KeyError):\n",
    "            return None\n",
    "    return None\n",
    "\n",
    "\n",
    "# Replace empty strings in 'gen_response' with None\n",
    "ds.loc[ds['gen_response'] == '', 'gen_response'] = None\n",
    "\n",
    "# Apply the find_first_valid_json function\n",
    "ds['gen_response'] = ds['gen_response'].apply(lambda x: find_first_valid_json(x))\n",
    "\n",
    "# Convert gen_response to None if it's not a valid string\n",
    "ds['gen_response'] = ds['gen_response'].apply(lambda x: None if pd.isna(x) or x == 'nan' or isinstance(x, float) else x)\n",
    "\n",
    "# Extract 'response' from the JSON objects\n",
    "ds['gen_response'] = ds['gen_response'].apply(lambda x: get_response(x))\n",
    "\n",
    "# Keep the 'response_time' column unchanged\n",
    "ds['response_time'] = ds['response_time']\n",
    "\n",
    "# Define the new column order\n",
    "new_column_order = ['gen_response', 'response_time']\n",
    "\n",
    "# Reorder the columns\n",
    "ds = ds[new_column_order]\n",
    "\n",
    "print(\"\\nMissing Values:\\n\", ds.isnull().sum())\n",
    "print(ds.shape)\n",
    "ds\n"
   ]
  },
  {
   "cell_type": "code",
   "execution_count": 9,
   "metadata": {},
   "outputs": [],
   "source": [
    "ds.to_csv(f'Responses/{DATASET}/{LLM}-train{COT_}.csv', index=False)"
   ]
  },
  {
   "cell_type": "code",
   "execution_count": null,
   "metadata": {},
   "outputs": [],
   "source": []
  }
 ],
 "metadata": {
  "kernelspec": {
   "display_name": ".venv",
   "language": "python",
   "name": "python3"
  },
  "language_info": {
   "codemirror_mode": {
    "name": "ipython",
    "version": 3
   },
   "file_extension": ".py",
   "mimetype": "text/x-python",
   "name": "python",
   "nbconvert_exporter": "python",
   "pygments_lexer": "ipython3",
   "version": "3.10.12"
  }
 },
 "nbformat": 4,
 "nbformat_minor": 2
}
